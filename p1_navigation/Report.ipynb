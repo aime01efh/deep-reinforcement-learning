{
 "cells": [
  {
   "cell_type": "markdown",
   "metadata": {},
   "source": [
    "# A Deep Q-Network Banana Collector"
   ]
  },
  {
   "cell_type": "markdown",
   "metadata": {},
   "source": [
    "In this project we have created a Deep Q-Network agent that is able to learn how to collect yellow bananas in a square world while avoiding blue bananas. The implementation is based on the solution to a previous Udacity Deep Reinforcement Learning Nanodegree exercise in which a Deep Q-Network agent learns to pilot a lunar lander."
   ]
  },
  {
   "cell_type": "markdown",
   "metadata": {},
   "source": [
    "## Learning Algorithm"
   ]
  },
  {
   "cell_type": "markdown",
   "metadata": {},
   "source": [
    "In this project the agent's learning algorithm is deep Q-Learning. In deep Q-Learning, training is performed by taking actions in the environment and saving the results to memory. Then these saved actions are sampling in batches in order to provides updates via gradient descent.\n",
    "\n",
    "Two identically-structured neural networks map the state to the action values. One network is used as a slowly-changing reference to which the results of the other can be compared and updated.\n",
    "\n",
    "The neural network is a simple network with the following layers:\n",
    "- a fully-connected layer of 64 units with ReLU activation\n",
    "- a second fully-connected layer of 64 units with ReLU activation\n",
    "- a final fully-connected layer of `action_size` units to provide the Q values\n",
    "\n",
    "The two network outputs are compared via MSE loss. The local network weights are updated using an Adam optimizer.\n",
    "\n",
    "The hyperparameter values were reused from the lunar lander exercise and found to work sufficiently well that no adjustment was needed. These values are:\n",
    "\n",
    "```\n",
    "BUFFER_SIZE = int(1e5)  # replay buffer size\n",
    "BATCH_SIZE = 64         # minibatch size\n",
    "GAMMA = 0.99            # discount factor\n",
    "TAU = 1e-3              # for soft update of target parameters\n",
    "LR = 5e-4               # learning rate\n",
    "UPDATE_EVERY = 4        # how often to update the network\n",
    "```"
   ]
  },
  {
   "cell_type": "markdown",
   "metadata": {},
   "source": [
    "## Code Structure"
   ]
  },
  {
   "cell_type": "markdown",
   "metadata": {},
   "source": [
    "### model.py"
   ]
  },
  {
   "cell_type": "markdown",
   "metadata": {},
   "source": [
    "`model.py` has the PyTorch deep neural network model that implements the core of the agent."
   ]
  },
  {
   "cell_type": "markdown",
   "metadata": {},
   "source": [
    "### dqn_agent.py"
   ]
  },
  {
   "cell_type": "markdown",
   "metadata": {},
   "source": [
    "`dqn_agent.py` provides the agent logic around the neural network. It creates two instances of the NN from model.py, a local network and a target network. Its interface methods include:\n",
    "- step(): saves an experience in replay memory which is periodically sampled for learning updates. step() calls learn() which using deep Q learning to update the weights.\n",
    "- act(): obtains Q values for the given state and selects an appropriate action using an epsilon-greedy policy.\n",
    "\n",
    "This module includes the ReplayBuffer class which implements the replay memory.\n"
   ]
  },
  {
   "cell_type": "markdown",
   "metadata": {},
   "source": [
    "### dqn.py"
   ]
  },
  {
   "cell_type": "markdown",
   "metadata": {},
   "source": [
    "`dqn.py` has a single function, `train_dqn()`, which trains the agent by  repeatedly running episodes with the agent which learns from the experiences. It stops when the mean score of the most recent 100 episodes is at least 15, or at 2000 episodes, whichever comes first."
   ]
  },
  {
   "cell_type": "markdown",
   "metadata": {},
   "source": [
    "## Sample Training Results and Plot of Rewards"
   ]
  },
  {
   "cell_type": "code",
   "execution_count": 1,
   "metadata": {},
   "outputs": [],
   "source": [
    "from unityagents import UnityEnvironment\n",
    "import matplotlib.pyplot as plt\n",
    "from dqn import train_dqn\n",
    "import numpy as np\n",
    "import torch"
   ]
  },
  {
   "cell_type": "code",
   "execution_count": 2,
   "metadata": {},
   "outputs": [
    {
     "name": "stderr",
     "output_type": "stream",
     "text": [
      "INFO:unityagents:\n",
      "'Academy' started successfully!\n",
      "Unity Academy name: Academy\n",
      "        Number of Brains: 1\n",
      "        Number of External Brains : 1\n",
      "        Lesson number : 0\n",
      "        Reset Parameters :\n",
      "\t\t\n",
      "Unity brain name: BananaBrain\n",
      "        Number of Visual Observations (per agent): 0\n",
      "        Vector Observation space type: continuous\n",
      "        Vector Observation space size (per agent): 37\n",
      "        Number of stacked Vector Observation: 1\n",
      "        Vector Action space type: discrete\n",
      "        Vector Action space size (per agent): 4\n",
      "        Vector Action descriptions: , , , \n"
     ]
    }
   ],
   "source": [
    "env = UnityEnvironment(file_name=\"Banana_Linux/Banana.x86_64\")\n",
    "# get the default brain\n",
    "brain_name = env.brain_names[0]\n",
    "brain = env.brains[brain_name]\n",
    "# reset the environment\n",
    "env_info = env.reset(train_mode=True)[brain_name]"
   ]
  },
  {
   "cell_type": "code",
   "execution_count": 3,
   "metadata": {},
   "outputs": [],
   "source": [
    "from dqn_agent import Agent\n",
    "agent = Agent(state_size=len(env_info.vector_observations[0]),\n",
    "              action_size=brain.vector_action_space_size,\n",
    "              seed=237)"
   ]
  },
  {
   "cell_type": "code",
   "execution_count": 4,
   "metadata": {},
   "outputs": [
    {
     "name": "stdout",
     "output_type": "stream",
     "text": [
      "Episode 100\tAverage Score: 0.55\n",
      "Episode 200\tAverage Score: 3.46\n",
      "Episode 300\tAverage Score: 7.24\n",
      "Episode 400\tAverage Score: 10.65\n",
      "Episode 500\tAverage Score: 12.79\n",
      "Episode 600\tAverage Score: 13.77\n",
      "Episode 700\tAverage Score: 14.71\n",
      "Episode 726\tAverage Score: 15.00\n",
      "Environment solved in 626 episodes!\tAverage Score: 15.00\n"
     ]
    }
   ],
   "source": [
    "scores = train_dqn(env, agent)"
   ]
  },
  {
   "cell_type": "code",
   "execution_count": 5,
   "metadata": {},
   "outputs": [
    {
     "data": {
      "image/png": "[encoded data removed]",
      "text/plain": [
       "<Figure size 432x288 with 1 Axes>"
      ]
     },
     "metadata": {
      "needs_background": "light"
     },
     "output_type": "display_data"
    }
   ],
   "source": [
    "# plot the scores\n",
    "fig = plt.figure()\n",
    "ax = fig.add_subplot(111)\n",
    "plt.plot(np.arange(len(scores)), scores)\n",
    "plt.ylabel('Score')\n",
    "plt.xlabel('Episode #')\n",
    "plt.show()"
   ]
  },
  {
   "cell_type": "markdown",
   "metadata": {},
   "source": [
    "## Ideas for Future Work"
   ]
  },
  {
   "cell_type": "markdown",
   "metadata": {},
   "source": [
    "No attempt has been made to optimize the model hyperparameters or to adjust the neural network model architecture. Future work would include experimenting with adjustments in these areas."
   ]
  },
  {
   "cell_type": "markdown",
   "metadata": {},
   "source": [
    "In addition, there are enhancements to the basic DQN that are likely to improve results and should be included in future work:\n",
    "\n",
    "- Double DQN would mitigate the problem of overestimation of Q values that occurs particularly during the early stages of training.\n",
    "- Prioritized experience replay would accelerate training by focusing on experiences from which more is likely to be learned.\n",
    "- Dueling networks allow performance improvements by taking advantage of the fact that the value of most states doesn't vary across actions."
   ]
  }
 ],
 "metadata": {
  "kernelspec": {
   "display_name": "drlnd",
   "language": "python",
   "name": "drlnd"
  },
  "language_info": {
   "codemirror_mode": {
    "name": "ipython",
    "version": 3
   },
   "file_extension": ".py",
   "mimetype": "text/x-python",
   "name": "python",
   "nbconvert_exporter": "python",
   "pygments_lexer": "ipython3",
   "version": "3.6.11"
  }
 },
 "nbformat": 4,
 "nbformat_minor": 4
}
