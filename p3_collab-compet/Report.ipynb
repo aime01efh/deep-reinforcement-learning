{
 "cells": [
  {
   "cell_type": "markdown",
   "metadata": {},
   "source": [
    "# Tennis with MADDPG"
   ]
  },
  {
   "cell_type": "markdown",
   "metadata": {},
   "source": [
    "In this project we have created two tennis-playing agents that are trained via Multi-Agent Deep Deterministic Policy (MADDPG). The implementation is derived from the solution to a previous Udacity Deep Reinforcement Learning Nanodegree exercise in which a MADDPG is used to train agents to play the Physical Deception problem. See https://arxiv.org/pdf/1706.02275.pdf for the paper introducing MADDPG."
   ]
  },
  {
   "cell_type": "markdown",
   "metadata": {},
   "source": [
    "In this environment, two agents control rackets to bounce a ball over a net. If an agent hits the ball over the net, it receives a reward of +0.1.  If an agent lets a ball hit the ground or hits the ball out of bounds, it receives a reward of -0.01.  Thus, the goal of each agent is to keep the ball in play."
   ]
  },
  {
   "cell_type": "markdown",
   "metadata": {},
   "source": [
    "In this project the agent's learning algorithm is Multi-Agent Deep Deterministic Policy (MADDPG). The MADDPG meta-agent manages multiple DDPG agents, each with two actor networks (local and target) and two critic networks (local and target). The full observation set (plus actions from all agents) is provided to all critic networks for training, but each agent's actor receives only the observations pertaining to that agent.\n",
    "\n",
    "In MADDPG, training is performed by running episodes and storing each step in a replay buffer. The training then iterates over batches of samples randomly drawn from the replay buffer, optimizing both actor and critic networks. \n",
    "\n",
    "A simple neural network architecture is used for both actors and critics. For the actors, the NNs consist of:\n",
    "- two fully-connected hidden layers with ReLU activation and dropout (three hidden layers were also tried)\n",
    "- a fully-connected output layer of size corresponding to the number of actions (in this case, two: movement and jumping) with tanh activation which limits its output to the action space\n",
    "\n",
    "For the critics, the NNs consist of:\n",
    "- four fully-connected hidden layers with ReLU activation and dropout (two and three hidden layers were also tried)\n",
    "- a fully-connected output layer with a single unit (and no activation function) estimating the Q of the input values\n",
    "\n",
    "The weights for both actor and critic networks (local copy) are updated using Adam optimizers, and the target instances of each are updated from the local copies via soft updates."
   ]
  },
  {
   "cell_type": "markdown",
   "metadata": {},
   "source": [
    "The hyperparameter values used were:\n",
    "\n",
    "```python\n",
    "hidden_in_actor = 256\n",
    "hidden_out_actor = 128\n",
    "hidden_in_critic = 256\n",
    "hidden_out_critic = 128\n",
    "lr_actor = 5e-4\n",
    "lr_critic = 1e-3\n",
    "dropout = 0.3\n",
    "\n",
    "batchsize = 512  # Also tried 1024\n",
    "maddpg_train.REPLAY_BUFFER_LEN = 1_000_000\n",
    "episode_length = 200\n",
    "episodes_per_update = 8\n",
    "discount_factor = 0.99  # gamma\n",
    "tau = 1e-3\n",
    "ou_noise = 4.0\n",
    "noise_reduction = 0.9999\n",
    "```"
   ]
  },
  {
   "cell_type": "markdown",
   "metadata": {},
   "source": [
    "## Code Structure"
   ]
  },
  {
   "cell_type": "markdown",
   "metadata": {},
   "source": [
    "### networkforall.py"
   ]
  },
  {
   "cell_type": "markdown",
   "metadata": {},
   "source": [
    "`networkforall.py` has the PyTorch deep neural network model that implements both the actor and critic neural networks."
   ]
  },
  {
   "cell_type": "markdown",
   "metadata": {},
   "source": [
    "### ddpg_agent.py"
   ]
  },
  {
   "cell_type": "markdown",
   "metadata": {},
   "source": [
    "`ddpg_agent.py` provides the per-agent logic around the neural network. It creates four instances of the NN from networkforall.py: two actor networks (local and target), and two critic networks (local and target). Its interface methods include:\n",
    "- act(): given observations for this agent, return the selected action based on the local policy, optionally with OU noise added\n",
    "- target_act(): given observations for this agent, return the selected action based on the target policy, optionally with OU noise added"
   ]
  },
  {
   "cell_type": "markdown",
   "metadata": {},
   "source": [
    "### maddpg_agent.py"
   ]
  },
  {
   "cell_type": "markdown",
   "metadata": {},
   "source": [
    "`maddpg_agent.py`'s MADDPG_Agent class manages the MADDPG algorithm. It keeps an instance of DDPGAgent for each agent. Methods include\n",
    "- act(): return the results of each agent's act()\n",
    "- target_act(): return the results of each agent's target_act\n",
    "- update(): update actor and critic networks of all agents (local networks, not target networks)\n",
    "- update_targets(): soft-update actor and critic target networks of all agents"
   ]
  },
  {
   "cell_type": "markdown",
   "metadata": {},
   "source": [
    "### maddpg_train.py"
   ]
  },
  {
   "cell_type": "markdown",
   "metadata": {},
   "source": [
    "`maddpg_train.py` manages the MADDPG training. It runs the desired number of training episodes (stopping early if the goal is reached):\n",
    "- Execute an entire episode, storing each step in the replay buffer\n",
    "- Draw a random sample from the replay buffer\n",
    "- Update the MADDPG agent"
   ]
  },
  {
   "cell_type": "markdown",
   "metadata": {},
   "source": [
    "### run.py"
   ]
  },
  {
   "cell_type": "markdown",
   "metadata": {},
   "source": [
    "Although the primary interactive method for working with this algorithm is the `Tennis.ipynb` notebook, `run.py` allows repeated runs of the algorithm using randomly chosen hyperparameters. This was used to try dozens of hyperparameter combinations looking for a set that would provide better results."
   ]
  },
  {
   "cell_type": "markdown",
   "metadata": {},
   "source": [
    "## Sample Plot of Training Rewards"
   ]
  },
  {
   "cell_type": "code",
   "execution_count": 1,
   "metadata": {},
   "outputs": [],
   "source": [
    "import matplotlib.pyplot as plt\n",
    "import numpy as np"
   ]
  },
  {
   "cell_type": "code",
   "execution_count": 2,
   "metadata": {},
   "outputs": [
    {
     "name": "stdout",
     "output_type": "stream",
     "text": [
      "Environment solved in 9900 episodes!\n"
     ]
    }
   ],
   "source": [
    "from maddpg_train import GOAL_WINDOW_LEN\n",
    "with open('score_history.txt') as fp:\n",
    "    mean_rewards = [float(x) for x in fp.read().splitlines()]\n",
    "print('Environment solved in {:d} episodes!'.format(len(mean_rewards) - GOAL_WINDOW_LEN))"
   ]
  },
  {
   "cell_type": "markdown",
   "metadata": {},
   "source": [
    "### Not yet solved..."
   ]
  },
  {
   "cell_type": "code",
   "execution_count": 3,
   "metadata": {},
   "outputs": [
    {
     "data": {
      "image/png": "[encoded data removed]",
      "text/plain": [
       "<Figure size 432x288 with 1 Axes>"
      ]
     },
     "metadata": {
      "needs_background": "light"
     },
     "output_type": "display_data"
    }
   ],
   "source": [
    "# plot the scores\n",
    "fig = plt.figure()\n",
    "ax = fig.add_subplot(111)\n",
    "plt.plot(np.arange(len(mean_rewards)), mean_rewards)\n",
    "plt.ylabel('Mean episode score')\n",
    "plt.xlabel('Episode #')\n",
    "plt.show()"
   ]
  },
  {
   "cell_type": "markdown",
   "metadata": {},
   "source": [
    "## Tensorboard Graphs"
   ]
  },
  {
   "cell_type": "markdown",
   "metadata": {},
   "source": [
    "Tensorboard graphs showing per-agent losses and per-agent moving-average rewards:\n",
    "\n",
    "![](tensorboard2.png)"
   ]
  },
  {
   "cell_type": "markdown",
   "metadata": {},
   "source": [
    "## Ideas for Future Work"
   ]
  },
  {
   "cell_type": "markdown",
   "metadata": {},
   "source": [
    "The preferred first action for future work would be to get this to actually learn. I have already tried many combinations of hyperparameters, changes to weight initialization, batch normalization, both SmoothL1Loss and MSELoss, dropout, a varied number of hidden actor and critic network layers, providing all observations to all agent actors instead of just that agent's observations, and critic gradient clipping."
   ]
  },
  {
   "cell_type": "markdown",
   "metadata": {},
   "source": [
    "Once the project shows evidence of the ability to learn, other areas in which to search for improvement include:\n",
    "- properly optimizing the hyperparameters and neural network architecture\n",
    "- prioritized experience replay in order to learn more efficiently\n",
    "- the MADDPG paper mentions the use of entropy regularization which could be explored\n",
    "- the MADDPG paper describes an option for policy ensembles in which agents have multiple subpolicies to help with environment non-stationarity; the paper suggests this is most helpful in competitive environments, which this is not, but it would still be interesting to try"
   ]
  }
 ],
 "metadata": {
  "kernelspec": {
   "display_name": "drlnd",
   "language": "python",
   "name": "drlnd"
  },
  "language_info": {
   "codemirror_mode": {
    "name": "ipython",
    "version": 3
   },
   "file_extension": ".py",
   "mimetype": "text/x-python",
   "name": "python",
   "nbconvert_exporter": "python",
   "pygments_lexer": "ipython3",
   "version": "3.6.11"
  }
 },
 "nbformat": 4,
 "nbformat_minor": 4
}
