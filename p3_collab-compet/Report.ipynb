{
 "cells": [
  {
   "cell_type": "markdown",
   "metadata": {},
   "source": [
    "# Tennis with MADDPG"
   ]
  },
  {
   "cell_type": "markdown",
   "metadata": {},
   "source": [
    "In this project we have created two tennis-playing agents that are trained via Multi-Agent Deep Deterministic Policy (MADDPG). The implementation is derived from the solution to a previous Udacity Deep Reinforcement Learning Nanodegree exercise in which a MADDPG is used to train agents to play the Physical Deception problem. See https://arxiv.org/pdf/1706.02275.pdf for the paper introducing MADDPG."
   ]
  },
  {
   "cell_type": "markdown",
   "metadata": {},
   "source": [
    "In this environment, two agents control rackets to bounce a ball over a net. If an agent hits the ball over the net, it receives a reward of +0.1.  If an agent lets a ball hit the ground or hits the ball out of bounds, it receives a reward of -0.01.  Thus, the goal of each agent is to keep the ball in play."
   ]
  },
  {
   "cell_type": "markdown",
   "metadata": {},
   "source": [
    "## Algorithm Description"
   ]
  },
  {
   "cell_type": "markdown",
   "metadata": {},
   "source": [
    "In this project the agent's learning algorithm is Multi-Agent Deep Deterministic Policy (MADDPG). The MADDPG meta-agent manages multiple DDPG agents, each with two actor networks (local and target) and two critic networks (local and target). The full observation set (plus actions from all agents) is provided to all critic networks for training, but each agent's actor receives only the observations pertaining to that agent.\n",
    "\n",
    "In MADDPG, training is performed by running episodes and storing each step in a replay buffer. The training then iterates over batches of samples randomly drawn from the replay buffer, optimizing both actor and critic networks."
   ]
  },
  {
   "cell_type": "markdown",
   "metadata": {},
   "source": [
    "The most challenging part of the project was getting the update cycle correct.  The final pseudocode follows.\n",
    "\n",
    "```python\n",
    "# At each update, run for each agent:\n",
    "\n",
    "# -- UPDATE THE CRITIC NETWORK --\n",
    "# for each replay buffer sample (vectorized across the batch):\n",
    "#   for each agent:\n",
    "#     use target actor NN and agent's next_obs to get agent's target_actions\n",
    "#   concat next_obs_full and all agent target_actions as critic input\n",
    "#   use this critic input with agent's target critic to get Qnext\n",
    "#   y = sample_reward[agent_number] + (discount * Qnext)\n",
    "#\n",
    "#   concat obs_full and all agent sample actions as critic input\n",
    "#   use this critic input with agent's local critic to get Q\n",
    "#   optimize MSE loss between Q and y, updating agent's local critic\n",
    "\n",
    "# -- UPDATE THE AGENT'S ACTOR NETWORK USING POLICY GRADIENT --\n",
    "# for each replay buffer sample (vectorized across the batch):\n",
    "#   use local actor NN and agent's obs to get this agent's new actions\n",
    "#   concat obs_full and all agent actions as critic input (for this\n",
    "#     agent, replace sampled actions with the new actions)\n",
    "#   use this critic input with agent's local critic to get Q\n",
    "#   negatize Q to use as loss function to optimizer of agent's local actor NN\n",
    "```"
   ]
  },
  {
   "cell_type": "markdown",
   "metadata": {},
   "source": [
    "This update is repeated 5 times at each step of the episode."
   ]
  },
  {
   "cell_type": "markdown",
   "metadata": {},
   "source": [
    "## Neural Network Architecture"
   ]
  },
  {
   "cell_type": "markdown",
   "metadata": {},
   "source": [
    "A simple neural network architecture is used for both actors and critics. For the actors, the NNs consist of:\n",
    "- two fully-connected hidden layers, of 256 and 128 units, with ReLU activation and dropout\n",
    "- a fully-connected output layer of size corresponding to the number of actions (in this case, two: movement and jumping) with tanh activation which limits its output to the action space\n",
    "\n",
    "For the critics, the NNs consist of:\n",
    "- two fully-connected hidden layers, of 256 and 512 units, with ReLU activation and dropout\n",
    "- a fully-connected output layer with a single unit (and no activation function) estimating the Q of the input values\n",
    "\n",
    "The weights for both actor and critic networks (local copy) are updated using Adam optimizers, and the target instances of each are updated from the local copies via soft updates."
   ]
  },
  {
   "cell_type": "markdown",
   "metadata": {},
   "source": [
    "## Hyperparameters"
   ]
  },
  {
   "cell_type": "markdown",
   "metadata": {},
   "source": [
    "The final hyperparameter values used were:\n",
    "\n",
    "```python\n",
    "hidden_in_actor = 256\n",
    "hidden_out_actor = 128\n",
    "hidden_in_critic = 256\n",
    "hidden_out_critic = 512\n",
    "lr_actor = 1e-5\n",
    "lr_critic = 1e-5\n",
    "dropout = 0.1\n",
    "ou_sigma = 0.3\n",
    "\n",
    "batchsize = 512\n",
    "episode_length = 512\n",
    "update_step_interval = 1\n",
    "update_iterations = 5\n",
    "discount_factor = 0.98\n",
    "tau = 1e-2\n",
    "initial_noise_scale = 3.0\n",
    "min_noise_scale = 0.1\n",
    "episode_noise_end = 300\n",
    "replay_buffer_len = 1_000_000\n",
    "```"
   ]
  },
  {
   "cell_type": "markdown",
   "metadata": {},
   "source": [
    "## Code Structure"
   ]
  },
  {
   "cell_type": "markdown",
   "metadata": {},
   "source": [
    "### networkforall.py"
   ]
  },
  {
   "cell_type": "markdown",
   "metadata": {},
   "source": [
    "`networkforall.py` has the PyTorch deep neural network model that implements both the actor and critic neural networks."
   ]
  },
  {
   "cell_type": "markdown",
   "metadata": {},
   "source": [
    "### ddpg_agent.py"
   ]
  },
  {
   "cell_type": "markdown",
   "metadata": {},
   "source": [
    "`ddpg_agent.py` provides the per-agent logic around the neural network. It creates four instances of the NN from networkforall.py: two actor networks (local and target), and two critic networks (local and target). Its interface methods include:\n",
    "- act(): given observations for this agent, return the selected action based on the local policy, optionally with OU noise added\n",
    "- target_act(): given observations for this agent, return the selected action based on the target policy, optionally with OU noise added"
   ]
  },
  {
   "cell_type": "markdown",
   "metadata": {},
   "source": [
    "### maddpg_agent.py"
   ]
  },
  {
   "cell_type": "markdown",
   "metadata": {},
   "source": [
    "`maddpg_agent.py`'s MADDPG_Agent class manages the MADDPG algorithm. It keeps an instance of DDPGAgent for each agent. Methods include\n",
    "- act(): return the results of each agent's act()\n",
    "- target_act(): return the results of each agent's target_act\n",
    "- update(): update actor and critic networks of all agents (local networks, not target networks)\n",
    "- update_targets(): soft-update actor and critic target networks of all agents"
   ]
  },
  {
   "cell_type": "markdown",
   "metadata": {},
   "source": [
    "### maddpg_train.py"
   ]
  },
  {
   "cell_type": "markdown",
   "metadata": {},
   "source": [
    "`maddpg_train.py` manages the MADDPG training. It runs the desired number of training episodes (stopping early if the goal is reached), as follows:\n",
    "\n",
    "Execute an entire episode, and at each step:\n",
    "- Store the step in the replay buffer\n",
    "- Draw a random sample from the replay buffer\n",
    "- Update the MADDPG agent"
   ]
  },
  {
   "cell_type": "markdown",
   "metadata": {},
   "source": [
    "### run_random.py, run_test.py"
   ]
  },
  {
   "cell_type": "markdown",
   "metadata": {},
   "source": [
    "Although the primary interactive method for working with this algorithm is the `Tennis.ipynb` notebook, `run_random.py` and run_test.py allows command-line based runs of the algorithm, either using using randomly chosen hyperparameters or a specific set of hyperparameters."
   ]
  },
  {
   "cell_type": "markdown",
   "metadata": {},
   "source": [
    "## Sample Plot of Training Rewards"
   ]
  },
  {
   "cell_type": "code",
   "execution_count": 1,
   "metadata": {},
   "outputs": [],
   "source": [
    "import matplotlib.pyplot as plt\n",
    "import numpy as np"
   ]
  },
  {
   "cell_type": "code",
   "execution_count": 2,
   "metadata": {},
   "outputs": [
    {
     "name": "stdout",
     "output_type": "stream",
     "text": [
      "Environment solved in 2122 episodes!\n"
     ]
    }
   ],
   "source": [
    "from maddpg_train import GOAL_WINDOW_LEN\n",
    "with open('score_history.txt') as fp:\n",
    "    mean_rewards = [float(x) for x in fp.read().splitlines()]\n",
    "print('Environment solved in {:d} episodes!'.format(len(mean_rewards) - GOAL_WINDOW_LEN))"
   ]
  },
  {
   "cell_type": "code",
   "execution_count": 3,
   "metadata": {},
   "outputs": [
    {
     "data": {
      "image/png": "[encoded data removed]",
      "text/plain": [
       "<Figure size 432x288 with 1 Axes>"
      ]
     },
     "metadata": {
      "needs_background": "light"
     },
     "output_type": "display_data"
    }
   ],
   "source": [
    "# plot the scores\n",
    "fig = plt.figure()\n",
    "ax = fig.add_subplot(111)\n",
    "plt.plot(np.arange(len(mean_rewards)), mean_rewards)\n",
    "plt.ylabel('Mean episode score')\n",
    "plt.xlabel('Episode #')\n",
    "plt.show()"
   ]
  },
  {
   "cell_type": "markdown",
   "metadata": {},
   "source": [
    "## Ideas for Future Work"
   ]
  },
  {
   "cell_type": "markdown",
   "metadata": {},
   "source": [
    "Other areas in which to search for improvement include:\n",
    "- better optimizing the hyperparameters and neural network architecture\n",
    "- prioritized experience replay in order to learn more efficiently\n",
    "- parameter noise (https://openai.com/blog/better-exploration-with-parameter-noise/) sounds like an interesting topic to investigate\n",
    "- the MADDPG paper mentions the use of entropy regularization which could be explored\n",
    "- the MADDPG paper describes an option for policy ensembles in which agents have multiple subpolicies to help with environment non-stationarity; the paper suggests this is most helpful in competitive environments, which this is not, but it would still be interesting to try"
   ]
  },
  {
   "cell_type": "markdown",
   "metadata": {},
   "source": [
    "## Helpful Resources"
   ]
  },
  {
   "cell_type": "markdown",
   "metadata": {},
   "source": [
    "In addition to the Udacity coursework and help forum, and the [MADDPG paper from Lowe et. al.](https://arxiv.org/abs/1706.02275), the blog post at https://towardsdatascience.com/training-two-agents-to-play-tennis-8285ebfaec5f was helpful while trying to identify issues with my project after it was written but before it was working. In addition, during that time it was also helpful to review the github repo of the blog post's author at https://github.com/tommytracey/DeepRL-P3-Collaboration-Competition in order to gain insights into how my project was going astray or could be improved as well as to better understand some pytorch usage."
   ]
  },
  {
   "cell_type": "code",
   "execution_count": null,
   "metadata": {},
   "outputs": [],
   "source": []
  }
 ],
 "metadata": {
  "kernelspec": {
   "display_name": "drlnd",
   "language": "python",
   "name": "drlnd"
  },
  "language_info": {
   "codemirror_mode": {
    "name": "ipython",
    "version": 3
   },
   "file_extension": ".py",
   "mimetype": "text/x-python",
   "name": "python",
   "nbconvert_exporter": "python",
   "pygments_lexer": "ipython3",
   "version": "3.6.11"
  }
 },
 "nbformat": 4,
 "nbformat_minor": 4
}
