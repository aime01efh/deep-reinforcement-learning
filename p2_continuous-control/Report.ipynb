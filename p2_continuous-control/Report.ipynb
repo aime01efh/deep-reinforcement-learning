{
 "cells": [
  {
   "cell_type": "markdown",
   "metadata": {},
   "source": [
    "# A Continuous Control PPO Agent for the Reacher Environment"
   ]
  },
  {
   "cell_type": "markdown",
   "metadata": {},
   "source": [
    "In this project we have created a Proximal Policy Optimization (PPO) agent that is able to learn how to control a double-jointed arm in order to keep the arm's hand within a moving goal location. The implementation is derived from the solution to a previous Udacity Deep Reinforcement Learning Nanodegree exercise in which a PPO-based agent learns to play Pong."
   ]
  },
  {
   "cell_type": "markdown",
   "metadata": {},
   "source": [
    "The requirements provided for two options, one option with a single agent and a second option with twenty parallel agents. In this project the twenty-agent option was implemented."
   ]
  },
  {
   "cell_type": "markdown",
   "metadata": {},
   "source": [
    "## Learning Algorithm"
   ]
  },
  {
   "cell_type": "markdown",
   "metadata": {},
   "source": [
    "In this project the agent's learning algorithm is Proximal Policy Optimization (PPO) using a Monte Carlo policy gradient (as opposed to using a baseline). In PPO, training is performed by gathering a set of trajectories (state and action tuples) as well as action probabilities and rewards. The training then iterates over the trajectories a small number of times in order to optimize the policy weights via gradient descent.\n",
    "\n",
    "The gradient descent's loss function is a surrogate loss function that enables the limited reuse of the trajectories even as the policy weights (and thus the action probabilities) are adjusted during training. An important feature of this surrogate loss function is clipping which prevents catastrophic divergence from the true loss function.\n",
    "\n",
    "Two identically-structured neural networks map the state to the action values. One network is used as a slowly-changing reference to which the results of the other can be compared and updated.\n",
    "\n",
    "A simple neural network creates the policy that maps states to the mean and standard deviations of normal distributions from which the actions are sampled. The NN consists of:\n",
    "- two fully-connected layers of 256 and 512 units with ReLU activation\n",
    "- a fully-connected layer of 4 units (the action space) to provide the means of the normal distributions; a tanh activation function forces the output to the range [-1.0, 1.0] to better match the action space\n",
    "- a fully-connected layer of 4 units (the action space) to provide the standard deviations of the normal distributions; a sigmoid activation function forces the output to the range [0.0, 1.0] to better match the action space\n",
    "\n",
    "Note that the constraints on the mean and standard deviation will still result in some sampled values outside of the valid action range, and clipping of the sampled actions will ensure action validity.\n",
    "\n",
    "The local network weights are updated using an Adam optimizer using the clipped surrogate loss function as described above."
   ]
  },
  {
   "cell_type": "markdown",
   "metadata": {},
   "source": [
    "The hyperparameter values used were:\n",
    "\n",
    "```\n",
    "DISCOUNT_RATE = .99\n",
    "EPSILON = 0.1\n",
    "BETA = .01\n",
    "# SDG_epoch is number of times to reuse trajectories; 1=REINFORCE\n",
    "SGD_EPOCH = 3\n",
    "LEARN_RATE = 1e-3\n",
    "```"
   ]
  },
  {
   "cell_type": "markdown",
   "metadata": {},
   "source": [
    "## Code Structure"
   ]
  },
  {
   "cell_type": "markdown",
   "metadata": {},
   "source": [
    "### model.py"
   ]
  },
  {
   "cell_type": "markdown",
   "metadata": {},
   "source": [
    "`model.py` has the PyTorch deep neural network model that implements the core of the policy."
   ]
  },
  {
   "cell_type": "markdown",
   "metadata": {},
   "source": [
    "### ppo_agent.py"
   ]
  },
  {
   "cell_type": "markdown",
   "metadata": {},
   "source": [
    "`ppo_agent.py` provides the agent logic around the neural network. It creates an instance of the NN from model.py. Its interface methods include:\n",
    "- parameters: a property to obtain the policy's learnable parameters\n",
    "- act(): given states, return sampled actions and their probability density; for use while collecting trajectories and for agent evaluation\n",
    "- states_actions_to_prob(): given states and actions, return their probability density\n",
    "- save(), load(): save and load the model"
   ]
  },
  {
   "cell_type": "markdown",
   "metadata": {},
   "source": [
    "### ppo.py"
   ]
  },
  {
   "cell_type": "markdown",
   "metadata": {},
   "source": [
    "`ppo.py` has two functions:\n",
    "- train_ppo(): perform training of the given agent and return the list of mean episode rewards\n",
    "- clipped_surrogate(): return the PPO surrogate loss function using a Monte Carlo policy gradient"
   ]
  },
  {
   "cell_type": "markdown",
   "metadata": {},
   "source": [
    "### model.py"
   ]
  },
  {
   "cell_type": "markdown",
   "metadata": {},
   "source": [
    "`model.py` has the Policy class which implements the deep neural network that forms the heart of the PPO agent."
   ]
  },
  {
   "cell_type": "markdown",
   "metadata": {},
   "source": [
    "### utils.py"
   ]
  },
  {
   "cell_type": "markdown",
   "metadata": {},
   "source": [
    "`utils.py` has two functions:\n",
    "- collect_trajectories(): step the parallel agents through the environment, gather up the trajectories of each agent, and return the probability densities, states, actions, and rewards\n",
    "- torch_isinf_any(): a simple convenience function that tests for inf or -inf in any tensor value; newer versions of torch have an equivalent function built-in"
   ]
  },
  {
   "cell_type": "markdown",
   "metadata": {},
   "source": [
    "## Sample Plot of Training Rewards"
   ]
  },
  {
   "cell_type": "code",
   "execution_count": 1,
   "metadata": {},
   "outputs": [],
   "source": [
    "import matplotlib.pyplot as plt\n",
    "import numpy as np"
   ]
  },
  {
   "cell_type": "code",
   "execution_count": 2,
   "metadata": {},
   "outputs": [
    {
     "name": "stdout",
     "output_type": "stream",
     "text": [
      "Environment solved in 4900 episodes!\n"
     ]
    }
   ],
   "source": [
    "from ppo import GOAL_WINDOW_LEN\n",
    "with open('episode_rewards.txt') as fp:\n",
    "    mean_rewards = [float(x) for x in fp.read().splitlines()]\n",
    "print('Environment solved in {:d} episodes!'.format(len(mean_rewards) - GOAL_WINDOW_LEN))"
   ]
  },
  {
   "cell_type": "markdown",
   "metadata": {},
   "source": [
    "### Not yet solved..."
   ]
  },
  {
   "cell_type": "code",
   "execution_count": 4,
   "metadata": {},
   "outputs": [
    {
     "data": {
      "image/png": "[encoded data removed]",
      "text/plain": [
       "<Figure size 432x288 with 1 Axes>"
      ]
     },
     "metadata": {
      "needs_background": "light"
     },
     "output_type": "display_data"
    }
   ],
   "source": [
    "# plot the scores\n",
    "fig = plt.figure()\n",
    "ax = fig.add_subplot(111)\n",
    "plt.plot(np.arange(len(mean_rewards)), mean_rewards)\n",
    "plt.ylabel('Mean episode score')\n",
    "plt.xlabel('Episode #')\n",
    "plt.show()"
   ]
  },
  {
   "cell_type": "markdown",
   "metadata": {},
   "source": [
    "## Ideas for Future Work"
   ]
  },
  {
   "cell_type": "markdown",
   "metadata": {},
   "source": [
    "No serious attempt has been made to optimize the model hyperparameters or the neural network model architecture. Future work would include experimenting with adjustments in these areas."
   ]
  },
  {
   "cell_type": "markdown",
   "metadata": {},
   "source": [
    "Other areas in which to search for improvement include:\n",
    "- use a baseline instead of Monte Carlo policy gradient\n",
    "- try other algorithms (A3C, DDPG)"
   ]
  },
  {
   "cell_type": "code",
   "execution_count": null,
   "metadata": {},
   "outputs": [],
   "source": []
  }
 ],
 "metadata": {
  "kernelspec": {
   "display_name": "drlnd",
   "language": "python",
   "name": "drlnd"
  },
  "language_info": {
   "codemirror_mode": {
    "name": "ipython",
    "version": 3
   },
   "file_extension": ".py",
   "mimetype": "text/x-python",
   "name": "python",
   "nbconvert_exporter": "python",
   "pygments_lexer": "ipython3",
   "version": "3.6.11"
  }
 },
 "nbformat": 4,
 "nbformat_minor": 4
}
