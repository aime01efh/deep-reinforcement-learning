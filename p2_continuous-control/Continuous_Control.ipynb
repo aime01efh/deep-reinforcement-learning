{
 "cells": [
  {
   "cell_type": "markdown",
   "metadata": {},
   "source": [
    "# Continuous Control\n",
    "\n",
    "---\n",
    "\n",
    "In this notebook, you will learn how to use the Unity ML-Agents environment for the second project of the [Deep Reinforcement Learning Nanodegree](https://www.udacity.com/course/deep-reinforcement-learning-nanodegree--nd893) program.\n",
    "\n",
    "### 1. Start the Environment\n",
    "\n",
    "We begin by importing the necessary packages.  If the code cell below returns an error, please revisit the project instructions to double-check that you have installed [Unity ML-Agents](https://github.com/Unity-Technologies/ml-agents/blob/master/docs/Installation.md) and [NumPy](http://www.numpy.org/)."
   ]
  },
  {
   "cell_type": "code",
   "execution_count": null,
   "metadata": {},
   "outputs": [],
   "source": [
    "from unityagents import UnityEnvironment\n",
    "import numpy as np"
   ]
  },
  {
   "cell_type": "markdown",
   "metadata": {},
   "source": [
    "Next, we will start the environment!  **_Before running the code cell below_**, change the `file_name` parameter to match the location of the Unity environment that you downloaded.\n",
    "\n",
    "- **Mac**: `\"path/to/Reacher.app\"`\n",
    "- **Windows** (x86): `\"path/to/Reacher_Windows_x86/Reacher.exe\"`\n",
    "- **Windows** (x86_64): `\"path/to/Reacher_Windows_x86_64/Reacher.exe\"`\n",
    "- **Linux** (x86): `\"path/to/Reacher_Linux/Reacher.x86\"`\n",
    "- **Linux** (x86_64): `\"path/to/Reacher_Linux/Reacher.x86_64\"`\n",
    "- **Linux** (x86, headless): `\"path/to/Reacher_Linux_NoVis/Reacher.x86\"`\n",
    "- **Linux** (x86_64, headless): `\"path/to/Reacher_Linux_NoVis/Reacher.x86_64\"`\n",
    "\n",
    "For instance, if you are using a Mac, then you downloaded `Reacher.app`.  If this file is in the same folder as the notebook, then the line below should appear as follows:\n",
    "```\n",
    "env = UnityEnvironment(file_name=\"Reacher.app\")\n",
    "```"
   ]
  },
  {
   "cell_type": "code",
   "execution_count": null,
   "metadata": {},
   "outputs": [],
   "source": [
    "env = UnityEnvironment(file_name='Reacher_Linux_20agents/Reacher.x86_64')"
   ]
  },
  {
   "cell_type": "markdown",
   "metadata": {},
   "source": [
    "Environments contain **_brains_** which are responsible for deciding the actions of their associated agents. Here we check for the first brain available, and set it as the default brain we will be controlling from Python."
   ]
  },
  {
   "cell_type": "code",
   "execution_count": null,
   "metadata": {},
   "outputs": [],
   "source": [
    "# get the default brain\n",
    "brain_name = env.brain_names[0]\n",
    "brain = env.brains[brain_name]"
   ]
  },
  {
   "cell_type": "markdown",
   "metadata": {},
   "source": [
    "### 2. Examine the State and Action Spaces\n",
    "\n",
    "In this environment, a double-jointed arm can move to target locations. A reward of `+0.1` is provided for each step that the agent's hand is in the goal location. Thus, the goal of your agent is to maintain its position at the target location for as many time steps as possible.\n",
    "\n",
    "The observation space consists of `33` variables corresponding to position, rotation, velocity, and angular velocities of the arm.  Each action is a vector with four numbers, corresponding to torque applicable to two joints.  Every entry in the action vector must be a number between `-1` and `1`.\n",
    "\n",
    "Run the code cell below to print some information about the environment."
   ]
  },
  {
   "cell_type": "code",
   "execution_count": null,
   "metadata": {},
   "outputs": [],
   "source": [
    "# reset the environment\n",
    "env_info = env.reset(train_mode=True)[brain_name]\n",
    "\n",
    "# number of agents\n",
    "num_agents = len(env_info.agents)\n",
    "print('Number of agents:', num_agents)\n",
    "\n",
    "# size of each action\n",
    "action_size = brain.vector_action_space_size\n",
    "print('Size of each action:', action_size)\n",
    "\n",
    "# examine the state space \n",
    "states = env_info.vector_observations\n",
    "state_size = states.shape[1]\n",
    "print('There are {} agents. Each observes a state with length: {}'.format(states.shape[0], state_size))\n",
    "print('The state for the first agent looks like:', states[0])"
   ]
  },
  {
   "cell_type": "markdown",
   "metadata": {},
   "source": [
    "### 3. Take Random Actions in the Environment\n",
    "\n",
    "In the next code cell, you will learn how to use the Python API to control the agent and receive feedback from the environment.\n",
    "\n",
    "Once this cell is executed, you will watch the agent's performance, if it selects an action at random with each time step.  A window should pop up that allows you to observe the agent, as it moves through the environment.  \n",
    "\n",
    "Of course, as part of the project, you'll have to change the code so that the agent is able to use its experience to gradually choose better actions when interacting with the environment!"
   ]
  },
  {
   "cell_type": "code",
   "execution_count": null,
   "metadata": {},
   "outputs": [],
   "source": [
    "env_info = env.reset(train_mode=False)[brain_name]     # reset the environment    \n",
    "states = env_info.vector_observations                  # get the current state (for each agent)\n",
    "scores = np.zeros(num_agents)                          # initialize the score (for each agent)\n",
    "while True:\n",
    "    actions = np.random.randn(num_agents, action_size) # select an action (for each agent)\n",
    "    actions = np.clip(actions, -1, 1)                  # all actions between -1 and 1\n",
    "    env_info = env.step(actions)[brain_name]           # send all actions to tne environment\n",
    "    next_states = env_info.vector_observations         # get next state (for each agent)\n",
    "    rewards = env_info.rewards                         # get reward (for each agent)\n",
    "    dones = env_info.local_done                        # see if episode finished\n",
    "    scores += env_info.rewards                         # update the score (for each agent)\n",
    "    states = next_states                               # roll over states to next time step\n",
    "    if np.any(dones):                                  # exit loop if episode finished\n",
    "        break\n",
    "print('Total score (averaged over agents) this episode: {}'.format(np.mean(scores)))"
   ]
  },
  {
   "cell_type": "markdown",
   "metadata": {},
   "source": [
    "When finished, you can close the environment."
   ]
  },
  {
   "cell_type": "code",
   "execution_count": null,
   "metadata": {},
   "outputs": [],
   "source": [
    "env.close()"
   ]
  },
  {
   "cell_type": "markdown",
   "metadata": {},
   "source": [
    "### 4. It's Your Turn!\n",
    "\n",
    "Now it's your turn to train your own agent to solve the environment!  When training the environment, set `train_mode=True`, so that the line for resetting the environment looks like the following:\n",
    "```python\n",
    "env_info = env.reset(train_mode=True)[brain_name]\n",
    "```"
   ]
  },
  {
   "cell_type": "code",
   "execution_count": 1,
   "metadata": {},
   "outputs": [],
   "source": [
    "import matplotlib.pyplot as plt\n",
    "import numpy as np\n",
    "import torch\n",
    "from unityagents import UnityEnvironment\n",
    "import ppo\n",
    "import ppo_agent\n",
    "import utils"
   ]
  },
  {
   "cell_type": "code",
   "execution_count": 2,
   "metadata": {},
   "outputs": [
    {
     "name": "stderr",
     "output_type": "stream",
     "text": [
      "INFO:unityagents:\n",
      "'Academy' started successfully!\n",
      "Unity Academy name: Academy\n",
      "        Number of Brains: 1\n",
      "        Number of External Brains : 1\n",
      "        Lesson number : 0\n",
      "        Reset Parameters :\n",
      "\t\tgoal_speed -> 1.0\n",
      "\t\tgoal_size -> 5.0\n",
      "Unity brain name: ReacherBrain\n",
      "        Number of Visual Observations (per agent): 0\n",
      "        Vector Observation space type: continuous\n",
      "        Vector Observation space size (per agent): 33\n",
      "        Number of stacked Vector Observation: 1\n",
      "        Vector Action space type: continuous\n",
      "        Vector Action space size (per agent): 4\n",
      "        Vector Action descriptions: , , , \n"
     ]
    }
   ],
   "source": [
    "env = UnityEnvironment(file_name=\"Reacher_Linux_20agents/Reacher.x86_64\")\n",
    "# get the default brain\n",
    "brain_name = env.brain_names[0]\n",
    "brain = env.brains[brain_name]\n",
    "# reset the environment\n",
    "env_info = env.reset(train_mode=True)[brain_name]"
   ]
  },
  {
   "cell_type": "code",
   "execution_count": 3,
   "metadata": {},
   "outputs": [],
   "source": [
    "agent = ppo_agent.Agent(state_size=len(env_info.vector_observations[0]),\n",
    "                        action_size=brain.vector_action_space_size,\n",
    "                        hidden_sizes=[256, 512],\n",
    "                        seed=237)"
   ]
  },
  {
   "cell_type": "code",
   "execution_count": 4,
   "metadata": {},
   "outputs": [
    {
     "name": "stderr",
     "output_type": "stream",
     "text": [
      "  0%|          | 20/5000 [02:43<11:17:01,  8.16s/it]"
     ]
    },
    {
     "name": "stdout",
     "output_type": "stream",
     "text": [
      "Episode: 20, score: 0.906000, window mean: 0.866000\n"
     ]
    },
    {
     "name": "stderr",
     "output_type": "stream",
     "text": [
      "  1%|          | 40/5000 [05:41<10:36:03,  7.69s/it]"
     ]
    },
    {
     "name": "stdout",
     "output_type": "stream",
     "text": [
      "Episode: 40, score: 1.156500, window mean: 0.975900\n"
     ]
    },
    {
     "name": "stderr",
     "output_type": "stream",
     "text": [
      "  1%|          | 60/5000 [08:14<10:24:42,  7.59s/it]"
     ]
    },
    {
     "name": "stdout",
     "output_type": "stream",
     "text": [
      "Episode: 60, score: 1.553500, window mean: 1.107850\n"
     ]
    },
    {
     "name": "stderr",
     "output_type": "stream",
     "text": [
      "  2%|▏         | 80/5000 [10:46<10:21:40,  7.58s/it]"
     ]
    },
    {
     "name": "stdout",
     "output_type": "stream",
     "text": [
      "Episode: 80, score: 1.583000, window mean: 1.172600\n"
     ]
    },
    {
     "name": "stderr",
     "output_type": "stream",
     "text": [
      "  2%|▏         | 100/5000 [13:18<10:25:47,  7.66s/it]"
     ]
    },
    {
     "name": "stdout",
     "output_type": "stream",
     "text": [
      "Episode: 100, score: 1.571000, window mean: 1.217800\n"
     ]
    },
    {
     "name": "stderr",
     "output_type": "stream",
     "text": [
      "  2%|▏         | 120/5000 [15:50<10:17:56,  7.60s/it]"
     ]
    },
    {
     "name": "stdout",
     "output_type": "stream",
     "text": [
      "Episode: 120, score: 0.957500, window mean: 1.259235\n"
     ]
    },
    {
     "name": "stderr",
     "output_type": "stream",
     "text": [
      "  3%|▎         | 140/5000 [18:21<10:11:49,  7.55s/it]"
     ]
    },
    {
     "name": "stdout",
     "output_type": "stream",
     "text": [
      "Episode: 140, score: 0.886500, window mean: 1.220510\n"
     ]
    },
    {
     "name": "stderr",
     "output_type": "stream",
     "text": [
      "  3%|▎         | 160/5000 [20:52<10:09:18,  7.55s/it]"
     ]
    },
    {
     "name": "stdout",
     "output_type": "stream",
     "text": [
      "Episode: 160, score: 1.094000, window mean: 1.140100\n"
     ]
    },
    {
     "name": "stderr",
     "output_type": "stream",
     "text": [
      "  4%|▎         | 180/5000 [23:25<10:16:33,  7.68s/it]"
     ]
    },
    {
     "name": "stdout",
     "output_type": "stream",
     "text": [
      "Episode: 180, score: 0.781000, window mean: 1.040165\n"
     ]
    },
    {
     "name": "stderr",
     "output_type": "stream",
     "text": [
      "  4%|▍         | 200/5000 [26:02<10:19:30,  7.74s/it]"
     ]
    },
    {
     "name": "stdout",
     "output_type": "stream",
     "text": [
      "Episode: 200, score: 0.790500, window mean: 0.915900\n"
     ]
    },
    {
     "name": "stderr",
     "output_type": "stream",
     "text": [
      "  4%|▍         | 220/5000 [28:33<10:01:57,  7.56s/it]"
     ]
    },
    {
     "name": "stdout",
     "output_type": "stream",
     "text": [
      "Episode: 220, score: 0.672000, window mean: 0.857465\n"
     ]
    },
    {
     "name": "stderr",
     "output_type": "stream",
     "text": [
      "  5%|▍         | 240/5000 [31:05<9:59:11,  7.55s/it] "
     ]
    },
    {
     "name": "stdout",
     "output_type": "stream",
     "text": [
      "Episode: 240, score: 0.791000, window mean: 0.840535\n"
     ]
    },
    {
     "name": "stderr",
     "output_type": "stream",
     "text": [
      "  5%|▌         | 260/5000 [33:37<10:00:08,  7.60s/it]"
     ]
    },
    {
     "name": "stdout",
     "output_type": "stream",
     "text": [
      "Episode: 260, score: 0.843000, window mean: 0.814935\n"
     ]
    },
    {
     "name": "stderr",
     "output_type": "stream",
     "text": [
      "  6%|▌         | 280/5000 [36:09<9:53:30,  7.54s/it] "
     ]
    },
    {
     "name": "stdout",
     "output_type": "stream",
     "text": [
      "Episode: 280, score: 1.037000, window mean: 0.832790\n"
     ]
    },
    {
     "name": "stderr",
     "output_type": "stream",
     "text": [
      "  6%|▌         | 300/5000 [38:40<9:49:27,  7.53s/it] "
     ]
    },
    {
     "name": "stdout",
     "output_type": "stream",
     "text": [
      "Episode: 300, score: 0.972000, window mean: 0.865125\n"
     ]
    },
    {
     "name": "stderr",
     "output_type": "stream",
     "text": [
      "  6%|▋         | 320/5000 [41:12<9:50:27,  7.57s/it] "
     ]
    },
    {
     "name": "stdout",
     "output_type": "stream",
     "text": [
      "Episode: 320, score: 0.934000, window mean: 0.891790\n"
     ]
    },
    {
     "name": "stderr",
     "output_type": "stream",
     "text": [
      "  7%|▋         | 340/5000 [44:01<11:58:50,  9.26s/it]"
     ]
    },
    {
     "name": "stdout",
     "output_type": "stream",
     "text": [
      "Episode: 340, score: 0.850500, window mean: 0.921760\n"
     ]
    },
    {
     "name": "stderr",
     "output_type": "stream",
     "text": [
      "  7%|▋         | 360/5000 [47:01<11:39:33,  9.05s/it]"
     ]
    },
    {
     "name": "stdout",
     "output_type": "stream",
     "text": [
      "Episode: 360, score: 1.124500, window mean: 0.946685\n"
     ]
    },
    {
     "name": "stderr",
     "output_type": "stream",
     "text": [
      "  8%|▊         | 380/5000 [49:56<11:00:38,  8.58s/it]"
     ]
    },
    {
     "name": "stdout",
     "output_type": "stream",
     "text": [
      "Episode: 380, score: 0.792500, window mean: 0.949220\n"
     ]
    },
    {
     "name": "stderr",
     "output_type": "stream",
     "text": [
      "  8%|▊         | 400/5000 [52:56<11:26:59,  8.96s/it]"
     ]
    },
    {
     "name": "stdout",
     "output_type": "stream",
     "text": [
      "Episode: 400, score: 0.980000, window mean: 0.945820\n"
     ]
    },
    {
     "name": "stderr",
     "output_type": "stream",
     "text": [
      "  8%|▊         | 420/5000 [55:55<11:59:41,  9.43s/it]"
     ]
    },
    {
     "name": "stdout",
     "output_type": "stream",
     "text": [
      "Episode: 420, score: 0.655500, window mean: 0.929160\n"
     ]
    },
    {
     "name": "stderr",
     "output_type": "stream",
     "text": [
      "  9%|▉         | 440/5000 [58:33<10:37:40,  8.39s/it]"
     ]
    },
    {
     "name": "stdout",
     "output_type": "stream",
     "text": [
      "Episode: 440, score: 0.773000, window mean: 0.897955\n"
     ]
    },
    {
     "name": "stderr",
     "output_type": "stream",
     "text": [
      "  9%|▉         | 460/5000 [1:01:17<10:17:14,  8.16s/it]"
     ]
    },
    {
     "name": "stdout",
     "output_type": "stream",
     "text": [
      "Episode: 460, score: 0.613000, window mean: 0.856150\n"
     ]
    },
    {
     "name": "stderr",
     "output_type": "stream",
     "text": [
      " 10%|▉         | 480/5000 [1:04:04<10:36:31,  8.45s/it]"
     ]
    },
    {
     "name": "stdout",
     "output_type": "stream",
     "text": [
      "Episode: 480, score: 0.654500, window mean: 0.815765\n"
     ]
    },
    {
     "name": "stderr",
     "output_type": "stream",
     "text": [
      " 10%|█         | 500/5000 [1:07:02<10:43:35,  8.58s/it]"
     ]
    },
    {
     "name": "stdout",
     "output_type": "stream",
     "text": [
      "Episode: 500, score: 0.920000, window mean: 0.794950\n"
     ]
    },
    {
     "name": "stderr",
     "output_type": "stream",
     "text": [
      " 10%|█         | 520/5000 [1:09:51<12:08:18,  9.75s/it]"
     ]
    },
    {
     "name": "stdout",
     "output_type": "stream",
     "text": [
      "Episode: 520, score: 0.943500, window mean: 0.793495\n"
     ]
    },
    {
     "name": "stderr",
     "output_type": "stream",
     "text": [
      " 11%|█         | 540/5000 [1:12:50<11:16:37,  9.10s/it]"
     ]
    },
    {
     "name": "stdout",
     "output_type": "stream",
     "text": [
      "Episode: 540, score: 0.937000, window mean: 0.837910\n"
     ]
    },
    {
     "name": "stderr",
     "output_type": "stream",
     "text": [
      " 11%|█         | 560/5000 [1:15:33<9:50:16,  7.98s/it] "
     ]
    },
    {
     "name": "stdout",
     "output_type": "stream",
     "text": [
      "Episode: 560, score: 0.945500, window mean: 0.879220\n"
     ]
    },
    {
     "name": "stderr",
     "output_type": "stream",
     "text": [
      " 12%|█▏        | 580/5000 [1:18:05<9:17:55,  7.57s/it]"
     ]
    },
    {
     "name": "stdout",
     "output_type": "stream",
     "text": [
      "Episode: 580, score: 0.888500, window mean: 0.922980\n"
     ]
    },
    {
     "name": "stderr",
     "output_type": "stream",
     "text": [
      " 12%|█▏        | 600/5000 [1:20:36<9:13:42,  7.55s/it]"
     ]
    },
    {
     "name": "stdout",
     "output_type": "stream",
     "text": [
      "Episode: 600, score: 0.989000, window mean: 0.981950\n"
     ]
    },
    {
     "name": "stderr",
     "output_type": "stream",
     "text": [
      " 12%|█▏        | 620/5000 [1:23:07<9:09:51,  7.53s/it]"
     ]
    },
    {
     "name": "stdout",
     "output_type": "stream",
     "text": [
      "Episode: 620, score: 1.214500, window mean: 1.036365\n"
     ]
    },
    {
     "name": "stderr",
     "output_type": "stream",
     "text": [
      " 13%|█▎        | 640/5000 [1:25:44<9:36:53,  7.94s/it] "
     ]
    },
    {
     "name": "stdout",
     "output_type": "stream",
     "text": [
      "Episode: 640, score: 1.049500, window mean: 1.034955\n"
     ]
    },
    {
     "name": "stderr",
     "output_type": "stream",
     "text": [
      " 13%|█▎        | 660/5000 [1:28:14<9:02:56,  7.51s/it]"
     ]
    },
    {
     "name": "stdout",
     "output_type": "stream",
     "text": [
      "Episode: 660, score: 0.858000, window mean: 1.047175\n"
     ]
    },
    {
     "name": "stderr",
     "output_type": "stream",
     "text": [
      " 14%|█▎        | 680/5000 [1:30:45<9:03:08,  7.54s/it]"
     ]
    },
    {
     "name": "stdout",
     "output_type": "stream",
     "text": [
      "Episode: 680, score: 1.021500, window mean: 1.056170\n"
     ]
    },
    {
     "name": "stderr",
     "output_type": "stream",
     "text": [
      " 14%|█▍        | 700/5000 [1:33:17<9:07:39,  7.64s/it]"
     ]
    },
    {
     "name": "stdout",
     "output_type": "stream",
     "text": [
      "Episode: 700, score: 1.269000, window mean: 1.053310\n"
     ]
    },
    {
     "name": "stderr",
     "output_type": "stream",
     "text": [
      " 14%|█▍        | 720/5000 [1:35:48<8:58:55,  7.56s/it]"
     ]
    },
    {
     "name": "stdout",
     "output_type": "stream",
     "text": [
      "Episode: 720, score: 0.862000, window mean: 1.034265\n"
     ]
    },
    {
     "name": "stderr",
     "output_type": "stream",
     "text": [
      " 15%|█▍        | 740/5000 [1:38:19<8:56:50,  7.56s/it]"
     ]
    },
    {
     "name": "stdout",
     "output_type": "stream",
     "text": [
      "Episode: 740, score: 1.099500, window mean: 1.036800\n"
     ]
    },
    {
     "name": "stderr",
     "output_type": "stream",
     "text": [
      " 15%|█▌        | 760/5000 [1:40:50<8:51:08,  7.52s/it]"
     ]
    },
    {
     "name": "stdout",
     "output_type": "stream",
     "text": [
      "Episode: 760, score: 1.013000, window mean: 1.066475\n"
     ]
    },
    {
     "name": "stderr",
     "output_type": "stream",
     "text": [
      " 16%|█▌        | 780/5000 [1:43:22<8:58:41,  7.66s/it]"
     ]
    },
    {
     "name": "stdout",
     "output_type": "stream",
     "text": [
      "Episode: 780, score: 1.051000, window mean: 1.082785\n"
     ]
    },
    {
     "name": "stderr",
     "output_type": "stream",
     "text": [
      " 16%|█▌        | 800/5000 [1:45:53<8:47:01,  7.53s/it]"
     ]
    },
    {
     "name": "stdout",
     "output_type": "stream",
     "text": [
      "Episode: 800, score: 1.228500, window mean: 1.098765\n"
     ]
    },
    {
     "name": "stderr",
     "output_type": "stream",
     "text": [
      " 16%|█▋        | 820/5000 [1:48:24<8:44:41,  7.53s/it]"
     ]
    },
    {
     "name": "stdout",
     "output_type": "stream",
     "text": [
      "Episode: 820, score: 1.067000, window mean: 1.137430\n"
     ]
    },
    {
     "name": "stderr",
     "output_type": "stream",
     "text": [
      " 17%|█▋        | 840/5000 [1:50:54<8:41:19,  7.52s/it]"
     ]
    },
    {
     "name": "stdout",
     "output_type": "stream",
     "text": [
      "Episode: 840, score: 1.528000, window mean: 1.161345\n"
     ]
    },
    {
     "name": "stderr",
     "output_type": "stream",
     "text": [
      " 17%|█▋        | 860/5000 [1:53:30<9:21:23,  8.14s/it]"
     ]
    },
    {
     "name": "stdout",
     "output_type": "stream",
     "text": [
      "Episode: 860, score: 1.213000, window mean: 1.171275\n"
     ]
    },
    {
     "name": "stderr",
     "output_type": "stream",
     "text": [
      " 18%|█▊        | 880/5000 [1:56:10<8:44:11,  7.63s/it] "
     ]
    },
    {
     "name": "stdout",
     "output_type": "stream",
     "text": [
      "Episode: 880, score: 1.369500, window mean: 1.195015\n"
     ]
    },
    {
     "name": "stderr",
     "output_type": "stream",
     "text": [
      " 18%|█▊        | 900/5000 [1:58:41<8:33:28,  7.51s/it]"
     ]
    },
    {
     "name": "stdout",
     "output_type": "stream",
     "text": [
      "Episode: 900, score: 1.333500, window mean: 1.186985\n"
     ]
    },
    {
     "name": "stderr",
     "output_type": "stream",
     "text": [
      " 18%|█▊        | 920/5000 [2:01:12<8:32:24,  7.54s/it]"
     ]
    },
    {
     "name": "stdout",
     "output_type": "stream",
     "text": [
      "Episode: 920, score: 1.013500, window mean: 1.183225\n"
     ]
    },
    {
     "name": "stderr",
     "output_type": "stream",
     "text": [
      " 19%|█▉        | 940/5000 [2:03:43<8:30:01,  7.54s/it]"
     ]
    },
    {
     "name": "stdout",
     "output_type": "stream",
     "text": [
      "Episode: 940, score: 1.354500, window mean: 1.183395\n"
     ]
    },
    {
     "name": "stderr",
     "output_type": "stream",
     "text": [
      " 19%|█▉        | 960/5000 [2:06:17<8:32:01,  7.60s/it]"
     ]
    },
    {
     "name": "stdout",
     "output_type": "stream",
     "text": [
      "Episode: 960, score: 1.184500, window mean: 1.171355\n"
     ]
    },
    {
     "name": "stderr",
     "output_type": "stream",
     "text": [
      " 20%|█▉        | 980/5000 [2:08:49<8:24:38,  7.53s/it]"
     ]
    },
    {
     "name": "stdout",
     "output_type": "stream",
     "text": [
      "Episode: 980, score: 1.181000, window mean: 1.146125\n"
     ]
    },
    {
     "name": "stderr",
     "output_type": "stream",
     "text": [
      " 20%|██        | 1000/5000 [2:11:21<8:29:36,  7.64s/it]"
     ]
    },
    {
     "name": "stdout",
     "output_type": "stream",
     "text": [
      "Episode: 1000, score: 0.967500, window mean: 1.136290\n"
     ]
    },
    {
     "name": "stderr",
     "output_type": "stream",
     "text": [
      " 20%|██        | 1020/5000 [2:13:50<8:16:42,  7.49s/it]"
     ]
    },
    {
     "name": "stdout",
     "output_type": "stream",
     "text": [
      "Episode: 1020, score: 1.000500, window mean: 1.125940\n"
     ]
    },
    {
     "name": "stderr",
     "output_type": "stream",
     "text": [
      " 21%|██        | 1040/5000 [2:16:21<8:16:21,  7.52s/it]"
     ]
    },
    {
     "name": "stdout",
     "output_type": "stream",
     "text": [
      "Episode: 1040, score: 0.971500, window mean: 1.134880\n"
     ]
    },
    {
     "name": "stderr",
     "output_type": "stream",
     "text": [
      " 21%|██        | 1060/5000 [2:18:51<8:11:43,  7.49s/it]"
     ]
    },
    {
     "name": "stdout",
     "output_type": "stream",
     "text": [
      "Episode: 1060, score: 0.937000, window mean: 1.153840\n"
     ]
    },
    {
     "name": "stderr",
     "output_type": "stream",
     "text": [
      " 22%|██▏       | 1080/5000 [2:21:23<8:17:21,  7.61s/it]"
     ]
    },
    {
     "name": "stdout",
     "output_type": "stream",
     "text": [
      "Episode: 1080, score: 1.152500, window mean: 1.166360\n"
     ]
    },
    {
     "name": "stderr",
     "output_type": "stream",
     "text": [
      " 22%|██▏       | 1100/5000 [2:23:53<8:09:40,  7.53s/it]"
     ]
    },
    {
     "name": "stdout",
     "output_type": "stream",
     "text": [
      "Episode: 1100, score: 1.263000, window mean: 1.166950\n"
     ]
    },
    {
     "name": "stderr",
     "output_type": "stream",
     "text": [
      " 22%|██▏       | 1120/5000 [2:26:29<8:08:33,  7.55s/it]"
     ]
    },
    {
     "name": "stdout",
     "output_type": "stream",
     "text": [
      "Episode: 1120, score: 0.837500, window mean: 1.165740\n"
     ]
    },
    {
     "name": "stderr",
     "output_type": "stream",
     "text": [
      " 23%|██▎       | 1140/5000 [2:28:59<8:01:29,  7.48s/it]"
     ]
    },
    {
     "name": "stdout",
     "output_type": "stream",
     "text": [
      "Episode: 1140, score: 1.058000, window mean: 1.141160\n"
     ]
    },
    {
     "name": "stderr",
     "output_type": "stream",
     "text": [
      " 23%|██▎       | 1160/5000 [2:31:30<8:05:12,  7.58s/it]"
     ]
    },
    {
     "name": "stdout",
     "output_type": "stream",
     "text": [
      "Episode: 1160, score: 1.150500, window mean: 1.102170\n"
     ]
    },
    {
     "name": "stderr",
     "output_type": "stream",
     "text": [
      " 24%|██▎       | 1180/5000 [2:34:01<7:58:44,  7.52s/it]"
     ]
    },
    {
     "name": "stdout",
     "output_type": "stream",
     "text": [
      "Episode: 1180, score: 1.167000, window mean: 1.092315\n"
     ]
    },
    {
     "name": "stderr",
     "output_type": "stream",
     "text": [
      " 24%|██▍       | 1200/5000 [2:36:32<7:56:55,  7.53s/it]"
     ]
    },
    {
     "name": "stdout",
     "output_type": "stream",
     "text": [
      "Episode: 1200, score: 1.005000, window mean: 1.101995\n"
     ]
    },
    {
     "name": "stderr",
     "output_type": "stream",
     "text": [
      " 24%|██▍       | 1220/5000 [2:39:02<7:52:22,  7.50s/it]"
     ]
    },
    {
     "name": "stdout",
     "output_type": "stream",
     "text": [
      "Episode: 1220, score: 1.048500, window mean: 1.096955\n"
     ]
    },
    {
     "name": "stderr",
     "output_type": "stream",
     "text": [
      " 25%|██▍       | 1240/5000 [2:41:33<7:55:19,  7.58s/it]"
     ]
    },
    {
     "name": "stdout",
     "output_type": "stream",
     "text": [
      "Episode: 1240, score: 1.015500, window mean: 1.079195\n"
     ]
    },
    {
     "name": "stderr",
     "output_type": "stream",
     "text": [
      " 25%|██▌       | 1260/5000 [2:44:04<7:47:38,  7.50s/it]"
     ]
    },
    {
     "name": "stdout",
     "output_type": "stream",
     "text": [
      "Episode: 1260, score: 0.889500, window mean: 1.061290\n"
     ]
    },
    {
     "name": "stderr",
     "output_type": "stream",
     "text": [
      " 26%|██▌       | 1280/5000 [2:46:34<7:45:26,  7.51s/it]"
     ]
    },
    {
     "name": "stdout",
     "output_type": "stream",
     "text": [
      "Episode: 1280, score: 1.102000, window mean: 1.028100\n"
     ]
    },
    {
     "name": "stderr",
     "output_type": "stream",
     "text": [
      " 26%|██▌       | 1300/5000 [2:49:05<7:42:32,  7.50s/it]"
     ]
    },
    {
     "name": "stdout",
     "output_type": "stream",
     "text": [
      "Episode: 1300, score: 0.956000, window mean: 0.981075\n"
     ]
    },
    {
     "name": "stderr",
     "output_type": "stream",
     "text": [
      " 26%|██▋       | 1320/5000 [2:51:35<7:43:22,  7.56s/it]"
     ]
    },
    {
     "name": "stdout",
     "output_type": "stream",
     "text": [
      "Episode: 1320, score: 0.888000, window mean: 0.956810\n"
     ]
    },
    {
     "name": "stderr",
     "output_type": "stream",
     "text": [
      " 27%|██▋       | 1340/5000 [2:54:06<7:41:02,  7.56s/it]"
     ]
    },
    {
     "name": "stdout",
     "output_type": "stream",
     "text": [
      "Episode: 1340, score: 0.842500, window mean: 0.948290\n"
     ]
    },
    {
     "name": "stderr",
     "output_type": "stream",
     "text": [
      " 27%|██▋       | 1360/5000 [2:56:42<7:36:01,  7.52s/it]"
     ]
    },
    {
     "name": "stdout",
     "output_type": "stream",
     "text": [
      "Episode: 1360, score: 1.123500, window mean: 0.971100\n"
     ]
    },
    {
     "name": "stderr",
     "output_type": "stream",
     "text": [
      " 28%|██▊       | 1380/5000 [2:59:13<7:32:27,  7.50s/it]"
     ]
    },
    {
     "name": "stdout",
     "output_type": "stream",
     "text": [
      "Episode: 1380, score: 1.380500, window mean: 1.014210\n"
     ]
    },
    {
     "name": "stderr",
     "output_type": "stream",
     "text": [
      " 28%|██▊       | 1400/5000 [3:01:44<7:33:29,  7.56s/it]"
     ]
    },
    {
     "name": "stdout",
     "output_type": "stream",
     "text": [
      "Episode: 1400, score: 1.228500, window mean: 1.091530\n"
     ]
    },
    {
     "name": "stderr",
     "output_type": "stream",
     "text": [
      " 28%|██▊       | 1420/5000 [3:04:15<7:28:37,  7.52s/it]"
     ]
    },
    {
     "name": "stdout",
     "output_type": "stream",
     "text": [
      "Episode: 1420, score: 1.298500, window mean: 1.157320\n"
     ]
    },
    {
     "name": "stderr",
     "output_type": "stream",
     "text": [
      " 29%|██▉       | 1440/5000 [3:06:48<7:27:34,  7.54s/it]"
     ]
    },
    {
     "name": "stdout",
     "output_type": "stream",
     "text": [
      "Episode: 1440, score: 1.539000, window mean: 1.240420\n"
     ]
    },
    {
     "name": "stderr",
     "output_type": "stream",
     "text": [
      " 29%|██▉       | 1460/5000 [3:09:19<7:30:55,  7.64s/it]"
     ]
    },
    {
     "name": "stdout",
     "output_type": "stream",
     "text": [
      "Episode: 1460, score: 1.446000, window mean: 1.296565\n"
     ]
    },
    {
     "name": "stderr",
     "output_type": "stream",
     "text": [
      " 30%|██▉       | 1480/5000 [3:11:50<7:23:42,  7.56s/it]"
     ]
    },
    {
     "name": "stdout",
     "output_type": "stream",
     "text": [
      "Episode: 1480, score: 1.298000, window mean: 1.348405\n"
     ]
    },
    {
     "name": "stderr",
     "output_type": "stream",
     "text": [
      " 30%|███       | 1500/5000 [3:14:22<7:17:23,  7.50s/it]"
     ]
    },
    {
     "name": "stdout",
     "output_type": "stream",
     "text": [
      "Episode: 1500, score: 1.567500, window mean: 1.390585\n"
     ]
    },
    {
     "name": "stderr",
     "output_type": "stream",
     "text": [
      " 30%|███       | 1520/5000 [3:16:52<7:15:15,  7.50s/it]"
     ]
    },
    {
     "name": "stdout",
     "output_type": "stream",
     "text": [
      "Episode: 1520, score: 1.485500, window mean: 1.435305\n"
     ]
    },
    {
     "name": "stderr",
     "output_type": "stream",
     "text": [
      " 31%|███       | 1540/5000 [3:19:23<7:19:11,  7.62s/it]"
     ]
    },
    {
     "name": "stdout",
     "output_type": "stream",
     "text": [
      "Episode: 1540, score: 1.494000, window mean: 1.467230\n"
     ]
    },
    {
     "name": "stderr",
     "output_type": "stream",
     "text": [
      " 31%|███       | 1560/5000 [3:21:54<7:11:30,  7.53s/it]"
     ]
    },
    {
     "name": "stdout",
     "output_type": "stream",
     "text": [
      "Episode: 1560, score: 1.200500, window mean: 1.492105\n"
     ]
    },
    {
     "name": "stderr",
     "output_type": "stream",
     "text": [
      " 32%|███▏      | 1580/5000 [3:24:24<7:07:45,  7.50s/it]"
     ]
    },
    {
     "name": "stdout",
     "output_type": "stream",
     "text": [
      "Episode: 1580, score: 1.327500, window mean: 1.486350\n"
     ]
    },
    {
     "name": "stderr",
     "output_type": "stream",
     "text": [
      " 32%|███▏      | 1600/5000 [3:27:00<7:04:57,  7.50s/it]"
     ]
    },
    {
     "name": "stdout",
     "output_type": "stream",
     "text": [
      "Episode: 1600, score: 1.548000, window mean: 1.482835\n"
     ]
    },
    {
     "name": "stderr",
     "output_type": "stream",
     "text": [
      " 32%|███▏      | 1620/5000 [3:29:31<7:08:59,  7.62s/it]"
     ]
    },
    {
     "name": "stdout",
     "output_type": "stream",
     "text": [
      "Episode: 1620, score: 1.592500, window mean: 1.471385\n"
     ]
    },
    {
     "name": "stderr",
     "output_type": "stream",
     "text": [
      " 33%|███▎      | 1640/5000 [3:32:02<7:00:21,  7.51s/it]"
     ]
    },
    {
     "name": "stdout",
     "output_type": "stream",
     "text": [
      "Episode: 1640, score: 1.431000, window mean: 1.463290\n"
     ]
    },
    {
     "name": "stderr",
     "output_type": "stream",
     "text": [
      " 33%|███▎      | 1660/5000 [3:34:32<6:57:22,  7.50s/it]"
     ]
    },
    {
     "name": "stdout",
     "output_type": "stream",
     "text": [
      "Episode: 1660, score: 1.379000, window mean: 1.469795\n"
     ]
    },
    {
     "name": "stderr",
     "output_type": "stream",
     "text": [
      " 34%|███▎      | 1680/5000 [3:37:03<6:57:00,  7.54s/it]"
     ]
    },
    {
     "name": "stdout",
     "output_type": "stream",
     "text": [
      "Episode: 1680, score: 1.404500, window mean: 1.478870\n"
     ]
    },
    {
     "name": "stderr",
     "output_type": "stream",
     "text": [
      " 34%|███▍      | 1700/5000 [3:39:35<6:56:48,  7.58s/it]"
     ]
    },
    {
     "name": "stdout",
     "output_type": "stream",
     "text": [
      "Episode: 1700, score: 1.532500, window mean: 1.473570\n"
     ]
    },
    {
     "name": "stderr",
     "output_type": "stream",
     "text": [
      " 34%|███▍      | 1720/5000 [3:42:05<6:49:59,  7.50s/it]"
     ]
    },
    {
     "name": "stdout",
     "output_type": "stream",
     "text": [
      "Episode: 1720, score: 1.512000, window mean: 1.487390\n"
     ]
    },
    {
     "name": "stderr",
     "output_type": "stream",
     "text": [
      " 35%|███▍      | 1740/5000 [3:44:36<6:47:16,  7.50s/it]"
     ]
    },
    {
     "name": "stdout",
     "output_type": "stream",
     "text": [
      "Episode: 1740, score: 1.487500, window mean: 1.457860\n"
     ]
    },
    {
     "name": "stderr",
     "output_type": "stream",
     "text": [
      " 35%|███▌      | 1760/5000 [3:47:06<6:44:30,  7.49s/it]"
     ]
    },
    {
     "name": "stdout",
     "output_type": "stream",
     "text": [
      "Episode: 1760, score: 1.525000, window mean: 1.440170\n"
     ]
    },
    {
     "name": "stderr",
     "output_type": "stream",
     "text": [
      " 36%|███▌      | 1780/5000 [3:49:37<6:46:26,  7.57s/it]"
     ]
    },
    {
     "name": "stdout",
     "output_type": "stream",
     "text": [
      "Episode: 1780, score: 1.384500, window mean: 1.419975\n"
     ]
    },
    {
     "name": "stderr",
     "output_type": "stream",
     "text": [
      " 36%|███▌      | 1800/5000 [3:52:07<6:39:38,  7.49s/it]"
     ]
    },
    {
     "name": "stdout",
     "output_type": "stream",
     "text": [
      "Episode: 1800, score: 1.149000, window mean: 1.399940\n"
     ]
    },
    {
     "name": "stderr",
     "output_type": "stream",
     "text": [
      " 36%|███▋      | 1820/5000 [3:54:37<6:36:05,  7.47s/it]"
     ]
    },
    {
     "name": "stdout",
     "output_type": "stream",
     "text": [
      "Episode: 1820, score: 0.914000, window mean: 1.354115\n"
     ]
    },
    {
     "name": "stderr",
     "output_type": "stream",
     "text": [
      " 37%|███▋      | 1840/5000 [3:57:13<6:35:43,  7.51s/it]"
     ]
    },
    {
     "name": "stdout",
     "output_type": "stream",
     "text": [
      "Episode: 1840, score: 1.587500, window mean: 1.362690\n"
     ]
    },
    {
     "name": "stderr",
     "output_type": "stream",
     "text": [
      " 37%|███▋      | 1860/5000 [3:59:44<6:36:22,  7.57s/it]"
     ]
    },
    {
     "name": "stdout",
     "output_type": "stream",
     "text": [
      "Episode: 1860, score: 1.454500, window mean: 1.341345\n"
     ]
    },
    {
     "name": "stderr",
     "output_type": "stream",
     "text": [
      " 38%|███▊      | 1880/5000 [4:02:14<6:29:50,  7.50s/it]"
     ]
    },
    {
     "name": "stdout",
     "output_type": "stream",
     "text": [
      "Episode: 1880, score: 1.251500, window mean: 1.344085\n"
     ]
    },
    {
     "name": "stderr",
     "output_type": "stream",
     "text": [
      " 38%|███▊      | 1900/5000 [4:04:45<6:26:46,  7.49s/it]"
     ]
    },
    {
     "name": "stdout",
     "output_type": "stream",
     "text": [
      "Episode: 1900, score: 1.562500, window mean: 1.332950\n"
     ]
    },
    {
     "name": "stderr",
     "output_type": "stream",
     "text": [
      " 38%|███▊      | 1920/5000 [4:07:15<6:27:36,  7.55s/it]"
     ]
    },
    {
     "name": "stdout",
     "output_type": "stream",
     "text": [
      "Episode: 1920, score: 1.366000, window mean: 1.331885\n"
     ]
    },
    {
     "name": "stderr",
     "output_type": "stream",
     "text": [
      " 39%|███▉      | 1940/5000 [4:09:45<6:23:05,  7.51s/it]"
     ]
    },
    {
     "name": "stdout",
     "output_type": "stream",
     "text": [
      "Episode: 1940, score: 1.203000, window mean: 1.305320\n"
     ]
    },
    {
     "name": "stderr",
     "output_type": "stream",
     "text": [
      " 39%|███▉      | 1960/5000 [4:12:16<6:22:05,  7.54s/it]"
     ]
    },
    {
     "name": "stdout",
     "output_type": "stream",
     "text": [
      "Episode: 1960, score: 1.196000, window mean: 1.299035\n"
     ]
    },
    {
     "name": "stderr",
     "output_type": "stream",
     "text": [
      " 40%|███▉      | 1980/5000 [4:14:46<6:16:59,  7.49s/it]"
     ]
    },
    {
     "name": "stdout",
     "output_type": "stream",
     "text": [
      "Episode: 1980, score: 1.038000, window mean: 1.271740\n"
     ]
    },
    {
     "name": "stderr",
     "output_type": "stream",
     "text": [
      " 40%|████      | 2000/5000 [4:17:18<6:41:16,  8.03s/it]"
     ]
    },
    {
     "name": "stdout",
     "output_type": "stream",
     "text": [
      "Episode: 2000, score: 1.567000, window mean: 1.289740\n"
     ]
    },
    {
     "name": "stderr",
     "output_type": "stream",
     "text": [
      " 40%|████      | 2020/5000 [4:19:52<6:12:11,  7.49s/it]"
     ]
    },
    {
     "name": "stdout",
     "output_type": "stream",
     "text": [
      "Episode: 2020, score: 2.038000, window mean: 1.323870\n"
     ]
    },
    {
     "name": "stderr",
     "output_type": "stream",
     "text": [
      " 41%|████      | 2040/5000 [4:22:22<6:10:34,  7.51s/it]"
     ]
    },
    {
     "name": "stdout",
     "output_type": "stream",
     "text": [
      "Episode: 2040, score: 1.479000, window mean: 1.350860\n"
     ]
    },
    {
     "name": "stderr",
     "output_type": "stream",
     "text": [
      " 41%|████      | 2060/5000 [4:24:52<6:06:25,  7.48s/it]"
     ]
    },
    {
     "name": "stdout",
     "output_type": "stream",
     "text": [
      "Episode: 2060, score: 0.924000, window mean: 1.357330\n"
     ]
    },
    {
     "name": "stderr",
     "output_type": "stream",
     "text": [
      " 42%|████▏     | 2080/5000 [4:27:28<6:07:11,  7.54s/it]"
     ]
    },
    {
     "name": "stdout",
     "output_type": "stream",
     "text": [
      "Episode: 2080, score: 1.257500, window mean: 1.359835\n"
     ]
    },
    {
     "name": "stderr",
     "output_type": "stream",
     "text": [
      " 42%|████▏     | 2100/5000 [4:29:58<6:01:52,  7.49s/it]"
     ]
    },
    {
     "name": "stdout",
     "output_type": "stream",
     "text": [
      "Episode: 2100, score: 1.176500, window mean: 1.298805\n"
     ]
    },
    {
     "name": "stderr",
     "output_type": "stream",
     "text": [
      " 42%|████▏     | 2120/5000 [4:32:29<5:59:51,  7.50s/it]"
     ]
    },
    {
     "name": "stdout",
     "output_type": "stream",
     "text": [
      "Episode: 2120, score: 1.063500, window mean: 1.226005\n"
     ]
    },
    {
     "name": "stderr",
     "output_type": "stream",
     "text": [
      " 43%|████▎     | 2140/5000 [4:34:59<5:56:04,  7.47s/it]"
     ]
    },
    {
     "name": "stdout",
     "output_type": "stream",
     "text": [
      "Episode: 2140, score: 1.090000, window mean: 1.181760\n"
     ]
    },
    {
     "name": "stderr",
     "output_type": "stream",
     "text": [
      " 43%|████▎     | 2160/5000 [4:37:30<5:57:12,  7.55s/it]"
     ]
    },
    {
     "name": "stdout",
     "output_type": "stream",
     "text": [
      "Episode: 2160, score: 1.600000, window mean: 1.140820\n"
     ]
    },
    {
     "name": "stderr",
     "output_type": "stream",
     "text": [
      " 44%|████▎     | 2180/5000 [4:40:00<5:51:17,  7.47s/it]"
     ]
    },
    {
     "name": "stdout",
     "output_type": "stream",
     "text": [
      "Episode: 2180, score: 1.319000, window mean: 1.145735\n"
     ]
    },
    {
     "name": "stderr",
     "output_type": "stream",
     "text": [
      " 44%|████▍     | 2200/5000 [4:42:30<5:49:00,  7.48s/it]"
     ]
    },
    {
     "name": "stdout",
     "output_type": "stream",
     "text": [
      "Episode: 2200, score: 1.058500, window mean: 1.184575\n"
     ]
    },
    {
     "name": "stderr",
     "output_type": "stream",
     "text": [
      " 44%|████▍     | 2220/5000 [4:45:00<5:45:48,  7.46s/it]"
     ]
    },
    {
     "name": "stdout",
     "output_type": "stream",
     "text": [
      "Episode: 2220, score: 1.799000, window mean: 1.235160\n"
     ]
    },
    {
     "name": "stderr",
     "output_type": "stream",
     "text": [
      " 45%|████▍     | 2240/5000 [4:47:31<5:46:49,  7.54s/it]"
     ]
    },
    {
     "name": "stdout",
     "output_type": "stream",
     "text": [
      "Episode: 2240, score: 1.400000, window mean: 1.274745\n"
     ]
    },
    {
     "name": "stderr",
     "output_type": "stream",
     "text": [
      " 45%|████▌     | 2260/5000 [4:50:01<5:42:57,  7.51s/it]"
     ]
    },
    {
     "name": "stdout",
     "output_type": "stream",
     "text": [
      "Episode: 2260, score: 1.675000, window mean: 1.347535\n"
     ]
    },
    {
     "name": "stderr",
     "output_type": "stream",
     "text": [
      " 46%|████▌     | 2280/5000 [4:52:31<5:39:22,  7.49s/it]"
     ]
    },
    {
     "name": "stdout",
     "output_type": "stream",
     "text": [
      "Episode: 2280, score: 2.095000, window mean: 1.448720\n"
     ]
    },
    {
     "name": "stderr",
     "output_type": "stream",
     "text": [
      " 46%|████▌     | 2300/5000 [4:55:03<6:04:30,  8.10s/it]"
     ]
    },
    {
     "name": "stdout",
     "output_type": "stream",
     "text": [
      "Episode: 2300, score: 1.585000, window mean: 1.506525\n"
     ]
    },
    {
     "name": "stderr",
     "output_type": "stream",
     "text": [
      " 46%|████▋     | 2320/5000 [4:57:37<5:38:03,  7.57s/it]"
     ]
    },
    {
     "name": "stdout",
     "output_type": "stream",
     "text": [
      "Episode: 2320, score: 1.633000, window mean: 1.539540\n"
     ]
    },
    {
     "name": "stderr",
     "output_type": "stream",
     "text": [
      " 47%|████▋     | 2340/5000 [5:00:08<5:37:03,  7.60s/it]"
     ]
    },
    {
     "name": "stdout",
     "output_type": "stream",
     "text": [
      "Episode: 2340, score: 1.770500, window mean: 1.578295\n"
     ]
    },
    {
     "name": "stderr",
     "output_type": "stream",
     "text": [
      " 47%|████▋     | 2360/5000 [5:02:38<5:29:05,  7.48s/it]"
     ]
    },
    {
     "name": "stdout",
     "output_type": "stream",
     "text": [
      "Episode: 2360, score: 1.311000, window mean: 1.601530\n"
     ]
    },
    {
     "name": "stderr",
     "output_type": "stream",
     "text": [
      " 48%|████▊     | 2380/5000 [5:05:08<5:25:35,  7.46s/it]"
     ]
    },
    {
     "name": "stdout",
     "output_type": "stream",
     "text": [
      "Episode: 2380, score: 0.768000, window mean: 1.576315\n"
     ]
    },
    {
     "name": "stderr",
     "output_type": "stream",
     "text": [
      " 48%|████▊     | 2400/5000 [5:07:39<5:26:52,  7.54s/it]"
     ]
    },
    {
     "name": "stdout",
     "output_type": "stream",
     "text": [
      "Episode: 2400, score: 2.556500, window mean: 1.615785\n"
     ]
    },
    {
     "name": "stderr",
     "output_type": "stream",
     "text": [
      " 48%|████▊     | 2420/5000 [5:10:09<5:22:29,  7.50s/it]"
     ]
    },
    {
     "name": "stdout",
     "output_type": "stream",
     "text": [
      "Episode: 2420, score: 1.607000, window mean: 1.644905\n"
     ]
    },
    {
     "name": "stderr",
     "output_type": "stream",
     "text": [
      " 49%|████▉     | 2440/5000 [5:12:40<5:19:19,  7.48s/it]"
     ]
    },
    {
     "name": "stdout",
     "output_type": "stream",
     "text": [
      "Episode: 2440, score: 1.622000, window mean: 1.653755\n"
     ]
    },
    {
     "name": "stderr",
     "output_type": "stream",
     "text": [
      " 49%|████▉     | 2460/5000 [5:15:10<5:18:35,  7.53s/it]"
     ]
    },
    {
     "name": "stdout",
     "output_type": "stream",
     "text": [
      "Episode: 2460, score: 1.647000, window mean: 1.672815\n"
     ]
    },
    {
     "name": "stderr",
     "output_type": "stream",
     "text": [
      " 50%|████▉     | 2480/5000 [5:17:41<5:17:03,  7.55s/it]"
     ]
    },
    {
     "name": "stdout",
     "output_type": "stream",
     "text": [
      "Episode: 2480, score: 1.734500, window mean: 1.692495\n"
     ]
    },
    {
     "name": "stderr",
     "output_type": "stream",
     "text": [
      " 50%|█████     | 2500/5000 [5:20:12<5:14:18,  7.54s/it]"
     ]
    },
    {
     "name": "stdout",
     "output_type": "stream",
     "text": [
      "Episode: 2500, score: 1.653500, window mean: 1.688470\n"
     ]
    },
    {
     "name": "stderr",
     "output_type": "stream",
     "text": [
      " 50%|█████     | 2520/5000 [5:22:42<5:09:03,  7.48s/it]"
     ]
    },
    {
     "name": "stdout",
     "output_type": "stream",
     "text": [
      "Episode: 2520, score: 1.372000, window mean: 1.677620\n"
     ]
    },
    {
     "name": "stderr",
     "output_type": "stream",
     "text": [
      " 51%|█████     | 2540/5000 [5:25:18<5:56:20,  8.69s/it]"
     ]
    },
    {
     "name": "stdout",
     "output_type": "stream",
     "text": [
      "Episode: 2540, score: 1.634500, window mean: 1.634025\n"
     ]
    },
    {
     "name": "stderr",
     "output_type": "stream",
     "text": [
      " 51%|█████     | 2560/5000 [5:27:48<5:07:07,  7.55s/it]"
     ]
    },
    {
     "name": "stdout",
     "output_type": "stream",
     "text": [
      "Episode: 2560, score: 1.475500, window mean: 1.572490\n"
     ]
    },
    {
     "name": "stderr",
     "output_type": "stream",
     "text": [
      " 52%|█████▏    | 2580/5000 [5:30:19<5:03:50,  7.53s/it]"
     ]
    },
    {
     "name": "stdout",
     "output_type": "stream",
     "text": [
      "Episode: 2580, score: 1.346000, window mean: 1.484140\n"
     ]
    },
    {
     "name": "stderr",
     "output_type": "stream",
     "text": [
      " 52%|█████▏    | 2600/5000 [5:32:49<4:59:12,  7.48s/it]"
     ]
    },
    {
     "name": "stdout",
     "output_type": "stream",
     "text": [
      "Episode: 2600, score: 1.206000, window mean: 1.389230\n"
     ]
    },
    {
     "name": "stderr",
     "output_type": "stream",
     "text": [
      " 52%|█████▏    | 2620/5000 [5:35:20<5:03:17,  7.65s/it]"
     ]
    },
    {
     "name": "stdout",
     "output_type": "stream",
     "text": [
      "Episode: 2620, score: 0.907500, window mean: 1.343870\n"
     ]
    },
    {
     "name": "stderr",
     "output_type": "stream",
     "text": [
      " 53%|█████▎    | 2640/5000 [5:37:51<4:57:07,  7.55s/it]"
     ]
    },
    {
     "name": "stdout",
     "output_type": "stream",
     "text": [
      "Episode: 2640, score: 1.587000, window mean: 1.321035\n"
     ]
    },
    {
     "name": "stderr",
     "output_type": "stream",
     "text": [
      " 53%|█████▎    | 2660/5000 [5:40:21<4:52:06,  7.49s/it]"
     ]
    },
    {
     "name": "stdout",
     "output_type": "stream",
     "text": [
      "Episode: 2660, score: 1.555500, window mean: 1.301835\n"
     ]
    },
    {
     "name": "stderr",
     "output_type": "stream",
     "text": [
      " 54%|█████▎    | 2680/5000 [5:42:52<4:49:54,  7.50s/it]"
     ]
    },
    {
     "name": "stdout",
     "output_type": "stream",
     "text": [
      "Episode: 2680, score: 1.626000, window mean: 1.304920\n"
     ]
    },
    {
     "name": "stderr",
     "output_type": "stream",
     "text": [
      " 54%|█████▍    | 2700/5000 [5:45:23<4:52:12,  7.62s/it]"
     ]
    },
    {
     "name": "stdout",
     "output_type": "stream",
     "text": [
      "Episode: 2700, score: 2.040000, window mean: 1.331915\n"
     ]
    },
    {
     "name": "stderr",
     "output_type": "stream",
     "text": [
      " 54%|█████▍    | 2720/5000 [5:47:52<4:45:17,  7.51s/it]"
     ]
    },
    {
     "name": "stdout",
     "output_type": "stream",
     "text": [
      "Episode: 2720, score: 1.450500, window mean: 1.295935\n"
     ]
    },
    {
     "name": "stderr",
     "output_type": "stream",
     "text": [
      " 55%|█████▍    | 2740/5000 [5:50:23<4:42:05,  7.49s/it]"
     ]
    },
    {
     "name": "stdout",
     "output_type": "stream",
     "text": [
      "Episode: 2740, score: 1.058000, window mean: 1.325955\n"
     ]
    },
    {
     "name": "stderr",
     "output_type": "stream",
     "text": [
      " 55%|█████▌    | 2760/5000 [5:52:53<4:40:22,  7.51s/it]"
     ]
    },
    {
     "name": "stdout",
     "output_type": "stream",
     "text": [
      "Episode: 2760, score: 1.850500, window mean: 1.357905\n"
     ]
    },
    {
     "name": "stderr",
     "output_type": "stream",
     "text": [
      " 56%|█████▌    | 2780/5000 [5:55:30<5:07:03,  8.30s/it]"
     ]
    },
    {
     "name": "stdout",
     "output_type": "stream",
     "text": [
      "Episode: 2780, score: 1.320000, window mean: 1.370715\n"
     ]
    },
    {
     "name": "stderr",
     "output_type": "stream",
     "text": [
      " 56%|█████▌    | 2800/5000 [5:58:00<4:35:27,  7.51s/it]"
     ]
    },
    {
     "name": "stdout",
     "output_type": "stream",
     "text": [
      "Episode: 2800, score: 1.602500, window mean: 1.369760\n"
     ]
    },
    {
     "name": "stderr",
     "output_type": "stream",
     "text": [
      " 56%|█████▋    | 2820/5000 [6:00:31<4:34:27,  7.55s/it]"
     ]
    },
    {
     "name": "stdout",
     "output_type": "stream",
     "text": [
      "Episode: 2820, score: 0.993500, window mean: 1.374295\n"
     ]
    },
    {
     "name": "stderr",
     "output_type": "stream",
     "text": [
      " 57%|█████▋    | 2840/5000 [6:03:01<4:29:31,  7.49s/it]"
     ]
    },
    {
     "name": "stdout",
     "output_type": "stream",
     "text": [
      "Episode: 2840, score: 1.253500, window mean: 1.364910\n"
     ]
    },
    {
     "name": "stderr",
     "output_type": "stream",
     "text": [
      " 57%|█████▋    | 2860/5000 [6:05:32<4:30:42,  7.59s/it]"
     ]
    },
    {
     "name": "stdout",
     "output_type": "stream",
     "text": [
      "Episode: 2860, score: 2.024500, window mean: 1.368480\n"
     ]
    },
    {
     "name": "stderr",
     "output_type": "stream",
     "text": [
      " 58%|█████▊    | 2880/5000 [6:08:03<4:25:23,  7.51s/it]"
     ]
    },
    {
     "name": "stdout",
     "output_type": "stream",
     "text": [
      "Episode: 2880, score: 1.831000, window mean: 1.380705\n"
     ]
    },
    {
     "name": "stderr",
     "output_type": "stream",
     "text": [
      " 58%|█████▊    | 2900/5000 [6:10:33<4:22:21,  7.50s/it]"
     ]
    },
    {
     "name": "stdout",
     "output_type": "stream",
     "text": [
      "Episode: 2900, score: 2.053000, window mean: 1.384915\n"
     ]
    },
    {
     "name": "stderr",
     "output_type": "stream",
     "text": [
      " 58%|█████▊    | 2920/5000 [6:13:03<4:20:09,  7.50s/it]"
     ]
    },
    {
     "name": "stdout",
     "output_type": "stream",
     "text": [
      "Episode: 2920, score: 0.723500, window mean: 1.424680\n"
     ]
    },
    {
     "name": "stderr",
     "output_type": "stream",
     "text": [
      " 59%|█████▉    | 2940/5000 [6:15:34<4:21:36,  7.62s/it]"
     ]
    },
    {
     "name": "stdout",
     "output_type": "stream",
     "text": [
      "Episode: 2940, score: 1.721000, window mean: 1.435865\n"
     ]
    },
    {
     "name": "stderr",
     "output_type": "stream",
     "text": [
      " 59%|█████▉    | 2960/5000 [6:18:04<4:13:59,  7.47s/it]"
     ]
    },
    {
     "name": "stdout",
     "output_type": "stream",
     "text": [
      "Episode: 2960, score: 1.221500, window mean: 1.395135\n"
     ]
    },
    {
     "name": "stderr",
     "output_type": "stream",
     "text": [
      " 60%|█████▉    | 2980/5000 [6:20:34<4:12:12,  7.49s/it]"
     ]
    },
    {
     "name": "stdout",
     "output_type": "stream",
     "text": [
      "Episode: 2980, score: 1.774000, window mean: 1.372305\n"
     ]
    },
    {
     "name": "stderr",
     "output_type": "stream",
     "text": [
      " 60%|██████    | 3000/5000 [6:23:04<4:10:27,  7.51s/it]"
     ]
    },
    {
     "name": "stdout",
     "output_type": "stream",
     "text": [
      "Episode: 3000, score: 1.285000, window mean: 1.369865\n"
     ]
    },
    {
     "name": "stderr",
     "output_type": "stream",
     "text": [
      " 60%|██████    | 3020/5000 [6:25:40<4:22:19,  7.95s/it]"
     ]
    },
    {
     "name": "stdout",
     "output_type": "stream",
     "text": [
      "Episode: 3020, score: 1.151500, window mean: 1.343175\n"
     ]
    },
    {
     "name": "stderr",
     "output_type": "stream",
     "text": [
      " 61%|██████    | 3040/5000 [6:28:11<4:06:46,  7.55s/it]"
     ]
    },
    {
     "name": "stdout",
     "output_type": "stream",
     "text": [
      "Episode: 3040, score: 1.234000, window mean: 1.317460\n"
     ]
    },
    {
     "name": "stderr",
     "output_type": "stream",
     "text": [
      " 61%|██████    | 3060/5000 [6:30:42<4:02:13,  7.49s/it]"
     ]
    },
    {
     "name": "stdout",
     "output_type": "stream",
     "text": [
      "Episode: 3060, score: 1.409500, window mean: 1.329280\n"
     ]
    },
    {
     "name": "stderr",
     "output_type": "stream",
     "text": [
      " 62%|██████▏   | 3080/5000 [6:33:13<4:00:41,  7.52s/it]"
     ]
    },
    {
     "name": "stdout",
     "output_type": "stream",
     "text": [
      "Episode: 3080, score: 1.329000, window mean: 1.306480\n"
     ]
    },
    {
     "name": "stderr",
     "output_type": "stream",
     "text": [
      " 62%|██████▏   | 3100/5000 [6:35:44<3:59:23,  7.56s/it]"
     ]
    },
    {
     "name": "stdout",
     "output_type": "stream",
     "text": [
      "Episode: 3100, score: 1.474000, window mean: 1.308515\n"
     ]
    },
    {
     "name": "stderr",
     "output_type": "stream",
     "text": [
      " 62%|██████▏   | 3120/5000 [6:38:14<3:54:43,  7.49s/it]"
     ]
    },
    {
     "name": "stdout",
     "output_type": "stream",
     "text": [
      "Episode: 3120, score: 0.924500, window mean: 1.339475\n"
     ]
    },
    {
     "name": "stderr",
     "output_type": "stream",
     "text": [
      " 63%|██████▎   | 3140/5000 [6:40:45<3:52:54,  7.51s/it]"
     ]
    },
    {
     "name": "stdout",
     "output_type": "stream",
     "text": [
      "Episode: 3140, score: 1.486000, window mean: 1.346050\n"
     ]
    },
    {
     "name": "stderr",
     "output_type": "stream",
     "text": [
      " 63%|██████▎   | 3160/5000 [6:43:16<3:54:48,  7.66s/it]"
     ]
    },
    {
     "name": "stdout",
     "output_type": "stream",
     "text": [
      "Episode: 3160, score: 0.879500, window mean: 1.338660\n"
     ]
    },
    {
     "name": "stderr",
     "output_type": "stream",
     "text": [
      " 64%|██████▎   | 3180/5000 [6:45:46<3:47:41,  7.51s/it]"
     ]
    },
    {
     "name": "stdout",
     "output_type": "stream",
     "text": [
      "Episode: 3180, score: 1.313000, window mean: 1.371575\n"
     ]
    },
    {
     "name": "stderr",
     "output_type": "stream",
     "text": [
      " 64%|██████▍   | 3200/5000 [6:48:17<3:45:20,  7.51s/it]"
     ]
    },
    {
     "name": "stdout",
     "output_type": "stream",
     "text": [
      "Episode: 3200, score: 1.668500, window mean: 1.355035\n"
     ]
    },
    {
     "name": "stderr",
     "output_type": "stream",
     "text": [
      " 64%|██████▍   | 3220/5000 [6:50:47<3:42:24,  7.50s/it]"
     ]
    },
    {
     "name": "stdout",
     "output_type": "stream",
     "text": [
      "Episode: 3220, score: 1.113000, window mean: 1.349290\n"
     ]
    },
    {
     "name": "stderr",
     "output_type": "stream",
     "text": [
      " 65%|██████▍   | 3240/5000 [6:53:18<3:43:58,  7.64s/it]"
     ]
    },
    {
     "name": "stdout",
     "output_type": "stream",
     "text": [
      "Episode: 3240, score: 1.469000, window mean: 1.383555\n"
     ]
    },
    {
     "name": "stderr",
     "output_type": "stream",
     "text": [
      " 65%|██████▌   | 3260/5000 [6:55:54<3:45:03,  7.76s/it]"
     ]
    },
    {
     "name": "stdout",
     "output_type": "stream",
     "text": [
      "Episode: 3260, score: 2.379500, window mean: 1.431585\n"
     ]
    },
    {
     "name": "stderr",
     "output_type": "stream",
     "text": [
      " 66%|██████▌   | 3280/5000 [6:58:24<3:35:15,  7.51s/it]"
     ]
    },
    {
     "name": "stdout",
     "output_type": "stream",
     "text": [
      "Episode: 3280, score: 1.479000, window mean: 1.483005\n"
     ]
    },
    {
     "name": "stderr",
     "output_type": "stream",
     "text": [
      " 66%|██████▌   | 3300/5000 [7:00:54<3:32:44,  7.51s/it]"
     ]
    },
    {
     "name": "stdout",
     "output_type": "stream",
     "text": [
      "Episode: 3300, score: 2.210000, window mean: 1.564725\n"
     ]
    },
    {
     "name": "stderr",
     "output_type": "stream",
     "text": [
      " 66%|██████▋   | 3320/5000 [7:03:26<3:32:41,  7.60s/it]"
     ]
    },
    {
     "name": "stdout",
     "output_type": "stream",
     "text": [
      "Episode: 3320, score: 1.501000, window mean: 1.614850\n"
     ]
    },
    {
     "name": "stderr",
     "output_type": "stream",
     "text": [
      " 67%|██████▋   | 3340/5000 [7:05:57<3:28:46,  7.55s/it]"
     ]
    },
    {
     "name": "stdout",
     "output_type": "stream",
     "text": [
      "Episode: 3340, score: 1.497000, window mean: 1.652180\n"
     ]
    },
    {
     "name": "stderr",
     "output_type": "stream",
     "text": [
      " 67%|██████▋   | 3360/5000 [7:08:28<3:25:23,  7.51s/it]"
     ]
    },
    {
     "name": "stdout",
     "output_type": "stream",
     "text": [
      "Episode: 3360, score: 1.384500, window mean: 1.641185\n"
     ]
    },
    {
     "name": "stderr",
     "output_type": "stream",
     "text": [
      " 68%|██████▊   | 3380/5000 [7:10:58<3:22:17,  7.49s/it]"
     ]
    },
    {
     "name": "stdout",
     "output_type": "stream",
     "text": [
      "Episode: 3380, score: 1.529500, window mean: 1.615880\n"
     ]
    },
    {
     "name": "stderr",
     "output_type": "stream",
     "text": [
      " 68%|██████▊   | 3400/5000 [7:13:29<3:22:11,  7.58s/it]"
     ]
    },
    {
     "name": "stdout",
     "output_type": "stream",
     "text": [
      "Episode: 3400, score: 1.688000, window mean: 1.586905\n"
     ]
    },
    {
     "name": "stderr",
     "output_type": "stream",
     "text": [
      " 68%|██████▊   | 3420/5000 [7:15:59<3:18:08,  7.52s/it]"
     ]
    },
    {
     "name": "stdout",
     "output_type": "stream",
     "text": [
      "Episode: 3420, score: 1.368000, window mean: 1.590625\n"
     ]
    },
    {
     "name": "stderr",
     "output_type": "stream",
     "text": [
      " 69%|██████▉   | 3440/5000 [7:18:30<3:15:29,  7.52s/it]"
     ]
    },
    {
     "name": "stdout",
     "output_type": "stream",
     "text": [
      "Episode: 3440, score: 1.667000, window mean: 1.599520\n"
     ]
    },
    {
     "name": "stderr",
     "output_type": "stream",
     "text": [
      " 69%|██████▉   | 3460/5000 [7:21:00<3:12:04,  7.48s/it]"
     ]
    },
    {
     "name": "stdout",
     "output_type": "stream",
     "text": [
      "Episode: 3460, score: 1.981500, window mean: 1.641645\n"
     ]
    },
    {
     "name": "stderr",
     "output_type": "stream",
     "text": [
      " 70%|██████▉   | 3480/5000 [7:23:31<3:12:14,  7.59s/it]"
     ]
    },
    {
     "name": "stdout",
     "output_type": "stream",
     "text": [
      "Episode: 3480, score: 1.341000, window mean: 1.662480\n"
     ]
    },
    {
     "name": "stderr",
     "output_type": "stream",
     "text": [
      " 70%|███████   | 3500/5000 [7:26:07<3:11:38,  7.67s/it]"
     ]
    },
    {
     "name": "stdout",
     "output_type": "stream",
     "text": [
      "Episode: 3500, score: 1.330000, window mean: 1.668590\n"
     ]
    },
    {
     "name": "stderr",
     "output_type": "stream",
     "text": [
      " 70%|███████   | 3520/5000 [7:28:37<3:05:09,  7.51s/it]"
     ]
    },
    {
     "name": "stdout",
     "output_type": "stream",
     "text": [
      "Episode: 3520, score: 1.193500, window mean: 1.648560\n"
     ]
    },
    {
     "name": "stderr",
     "output_type": "stream",
     "text": [
      " 71%|███████   | 3540/5000 [7:31:08<3:01:45,  7.47s/it]"
     ]
    },
    {
     "name": "stdout",
     "output_type": "stream",
     "text": [
      "Episode: 3540, score: 1.679500, window mean: 1.630800\n"
     ]
    },
    {
     "name": "stderr",
     "output_type": "stream",
     "text": [
      " 71%|███████   | 3560/5000 [7:33:38<3:00:55,  7.54s/it]"
     ]
    },
    {
     "name": "stdout",
     "output_type": "stream",
     "text": [
      "Episode: 3560, score: 1.646500, window mean: 1.597420\n"
     ]
    },
    {
     "name": "stderr",
     "output_type": "stream",
     "text": [
      " 72%|███████▏  | 3580/5000 [7:36:09<2:57:30,  7.50s/it]"
     ]
    },
    {
     "name": "stdout",
     "output_type": "stream",
     "text": [
      "Episode: 3580, score: 1.387500, window mean: 1.583185\n"
     ]
    },
    {
     "name": "stderr",
     "output_type": "stream",
     "text": [
      " 72%|███████▏  | 3600/5000 [7:38:39<2:54:35,  7.48s/it]"
     ]
    },
    {
     "name": "stdout",
     "output_type": "stream",
     "text": [
      "Episode: 3600, score: 1.433500, window mean: 1.568645\n"
     ]
    },
    {
     "name": "stderr",
     "output_type": "stream",
     "text": [
      " 72%|███████▏  | 3620/5000 [7:41:10<2:51:58,  7.48s/it]"
     ]
    },
    {
     "name": "stdout",
     "output_type": "stream",
     "text": [
      "Episode: 3620, score: 1.817500, window mean: 1.557660\n"
     ]
    },
    {
     "name": "stderr",
     "output_type": "stream",
     "text": [
      " 73%|███████▎  | 3640/5000 [7:43:40<2:50:12,  7.51s/it]"
     ]
    },
    {
     "name": "stdout",
     "output_type": "stream",
     "text": [
      "Episode: 3640, score: 1.284000, window mean: 1.515715\n"
     ]
    },
    {
     "name": "stderr",
     "output_type": "stream",
     "text": [
      " 73%|███████▎  | 3660/5000 [7:46:10<2:48:01,  7.52s/it]"
     ]
    },
    {
     "name": "stdout",
     "output_type": "stream",
     "text": [
      "Episode: 3660, score: 2.018000, window mean: 1.518305\n"
     ]
    },
    {
     "name": "stderr",
     "output_type": "stream",
     "text": [
      " 74%|███████▎  | 3680/5000 [7:48:40<2:44:06,  7.46s/it]"
     ]
    },
    {
     "name": "stdout",
     "output_type": "stream",
     "text": [
      "Episode: 3680, score: 1.511500, window mean: 1.465105\n"
     ]
    },
    {
     "name": "stderr",
     "output_type": "stream",
     "text": [
      " 74%|███████▍  | 3700/5000 [7:51:10<2:42:36,  7.51s/it]"
     ]
    },
    {
     "name": "stdout",
     "output_type": "stream",
     "text": [
      "Episode: 3700, score: 1.103000, window mean: 1.431065\n"
     ]
    },
    {
     "name": "stderr",
     "output_type": "stream",
     "text": [
      " 74%|███████▍  | 3720/5000 [7:53:41<2:40:33,  7.53s/it]"
     ]
    },
    {
     "name": "stdout",
     "output_type": "stream",
     "text": [
      "Episode: 3720, score: 1.698500, window mean: 1.436785\n"
     ]
    },
    {
     "name": "stderr",
     "output_type": "stream",
     "text": [
      " 75%|███████▍  | 3740/5000 [7:56:16<2:39:58,  7.62s/it]"
     ]
    },
    {
     "name": "stdout",
     "output_type": "stream",
     "text": [
      "Episode: 3740, score: 1.564500, window mean: 1.439210\n"
     ]
    },
    {
     "name": "stderr",
     "output_type": "stream",
     "text": [
      " 75%|███████▌  | 3760/5000 [7:58:47<2:34:46,  7.49s/it]"
     ]
    },
    {
     "name": "stdout",
     "output_type": "stream",
     "text": [
      "Episode: 3760, score: 1.810500, window mean: 1.440450\n"
     ]
    },
    {
     "name": "stderr",
     "output_type": "stream",
     "text": [
      " 76%|███████▌  | 3780/5000 [8:01:17<2:33:43,  7.56s/it]"
     ]
    },
    {
     "name": "stdout",
     "output_type": "stream",
     "text": [
      "Episode: 3780, score: 2.083500, window mean: 1.491640\n"
     ]
    },
    {
     "name": "stderr",
     "output_type": "stream",
     "text": [
      " 76%|███████▌  | 3800/5000 [8:03:47<2:30:09,  7.51s/it]"
     ]
    },
    {
     "name": "stdout",
     "output_type": "stream",
     "text": [
      "Episode: 3800, score: 1.688000, window mean: 1.544305\n"
     ]
    },
    {
     "name": "stderr",
     "output_type": "stream",
     "text": [
      " 76%|███████▋  | 3820/5000 [8:06:17<2:27:21,  7.49s/it]"
     ]
    },
    {
     "name": "stdout",
     "output_type": "stream",
     "text": [
      "Episode: 3820, score: 1.145500, window mean: 1.571740\n"
     ]
    },
    {
     "name": "stderr",
     "output_type": "stream",
     "text": [
      " 77%|███████▋  | 3840/5000 [8:08:47<2:24:32,  7.48s/it]"
     ]
    },
    {
     "name": "stdout",
     "output_type": "stream",
     "text": [
      "Episode: 3840, score: 1.407000, window mean: 1.632620\n"
     ]
    },
    {
     "name": "stderr",
     "output_type": "stream",
     "text": [
      " 77%|███████▋  | 3860/5000 [8:11:18<2:25:36,  7.66s/it]"
     ]
    },
    {
     "name": "stdout",
     "output_type": "stream",
     "text": [
      "Episode: 3860, score: 1.516500, window mean: 1.659215\n"
     ]
    },
    {
     "name": "stderr",
     "output_type": "stream",
     "text": [
      " 78%|███████▊  | 3880/5000 [8:13:49<2:20:31,  7.53s/it]"
     ]
    },
    {
     "name": "stdout",
     "output_type": "stream",
     "text": [
      "Episode: 3880, score: 2.050500, window mean: 1.695790\n"
     ]
    },
    {
     "name": "stderr",
     "output_type": "stream",
     "text": [
      " 78%|███████▊  | 3900/5000 [8:16:19<2:18:08,  7.53s/it]"
     ]
    },
    {
     "name": "stdout",
     "output_type": "stream",
     "text": [
      "Episode: 3900, score: 1.495000, window mean: 1.688305\n"
     ]
    },
    {
     "name": "stderr",
     "output_type": "stream",
     "text": [
      " 78%|███████▊  | 3920/5000 [8:18:49<2:15:26,  7.52s/it]"
     ]
    },
    {
     "name": "stdout",
     "output_type": "stream",
     "text": [
      "Episode: 3920, score: 1.939000, window mean: 1.675565\n"
     ]
    },
    {
     "name": "stderr",
     "output_type": "stream",
     "text": [
      " 79%|███████▉  | 3940/5000 [8:21:20<2:14:38,  7.62s/it]"
     ]
    },
    {
     "name": "stdout",
     "output_type": "stream",
     "text": [
      "Episode: 3940, score: 1.362000, window mean: 1.683310\n"
     ]
    },
    {
     "name": "stderr",
     "output_type": "stream",
     "text": [
      " 79%|███████▉  | 3960/5000 [8:23:50<2:10:37,  7.54s/it]"
     ]
    },
    {
     "name": "stdout",
     "output_type": "stream",
     "text": [
      "Episode: 3960, score: 1.512000, window mean: 1.684770\n"
     ]
    },
    {
     "name": "stderr",
     "output_type": "stream",
     "text": [
      " 80%|███████▉  | 3980/5000 [8:26:26<2:08:46,  7.57s/it]"
     ]
    },
    {
     "name": "stdout",
     "output_type": "stream",
     "text": [
      "Episode: 3980, score: 1.858500, window mean: 1.697155\n"
     ]
    },
    {
     "name": "stderr",
     "output_type": "stream",
     "text": [
      " 80%|████████  | 4000/5000 [8:28:56<2:04:30,  7.47s/it]"
     ]
    },
    {
     "name": "stdout",
     "output_type": "stream",
     "text": [
      "Episode: 4000, score: 2.102000, window mean: 1.738275\n"
     ]
    },
    {
     "name": "stderr",
     "output_type": "stream",
     "text": [
      " 80%|████████  | 4020/5000 [8:31:27<2:03:39,  7.57s/it]"
     ]
    },
    {
     "name": "stdout",
     "output_type": "stream",
     "text": [
      "Episode: 4020, score: 1.806000, window mean: 1.766490\n"
     ]
    },
    {
     "name": "stderr",
     "output_type": "stream",
     "text": [
      " 81%|████████  | 4040/5000 [8:33:58<2:00:46,  7.55s/it]"
     ]
    },
    {
     "name": "stdout",
     "output_type": "stream",
     "text": [
      "Episode: 4040, score: 1.430000, window mean: 1.813240\n"
     ]
    },
    {
     "name": "stderr",
     "output_type": "stream",
     "text": [
      " 81%|████████  | 4060/5000 [8:36:29<1:57:47,  7.52s/it]"
     ]
    },
    {
     "name": "stdout",
     "output_type": "stream",
     "text": [
      "Episode: 4060, score: 2.132000, window mean: 1.875950\n"
     ]
    },
    {
     "name": "stderr",
     "output_type": "stream",
     "text": [
      " 82%|████████▏ | 4080/5000 [8:38:59<1:55:09,  7.51s/it]"
     ]
    },
    {
     "name": "stdout",
     "output_type": "stream",
     "text": [
      "Episode: 4080, score: 2.226500, window mean: 1.910380\n"
     ]
    },
    {
     "name": "stderr",
     "output_type": "stream",
     "text": [
      " 82%|████████▏ | 4100/5000 [8:41:30<1:53:22,  7.56s/it]"
     ]
    },
    {
     "name": "stdout",
     "output_type": "stream",
     "text": [
      "Episode: 4100, score: 1.864500, window mean: 1.928655\n"
     ]
    },
    {
     "name": "stderr",
     "output_type": "stream",
     "text": [
      " 82%|████████▏ | 4120/5000 [8:44:00<1:50:30,  7.53s/it]"
     ]
    },
    {
     "name": "stdout",
     "output_type": "stream",
     "text": [
      "Episode: 4120, score: 1.895000, window mean: 1.918725\n"
     ]
    },
    {
     "name": "stderr",
     "output_type": "stream",
     "text": [
      " 83%|████████▎ | 4140/5000 [8:46:30<1:47:12,  7.48s/it]"
     ]
    },
    {
     "name": "stdout",
     "output_type": "stream",
     "text": [
      "Episode: 4140, score: 1.682000, window mean: 1.852225\n"
     ]
    },
    {
     "name": "stderr",
     "output_type": "stream",
     "text": [
      " 83%|████████▎ | 4160/5000 [8:49:01<1:45:22,  7.53s/it]"
     ]
    },
    {
     "name": "stdout",
     "output_type": "stream",
     "text": [
      "Episode: 4160, score: 1.581000, window mean: 1.797320\n"
     ]
    },
    {
     "name": "stderr",
     "output_type": "stream",
     "text": [
      " 84%|████████▎ | 4180/5000 [8:51:32<1:43:19,  7.56s/it]"
     ]
    },
    {
     "name": "stdout",
     "output_type": "stream",
     "text": [
      "Episode: 4180, score: 1.696500, window mean: 1.726295\n"
     ]
    },
    {
     "name": "stderr",
     "output_type": "stream",
     "text": [
      " 84%|████████▍ | 4200/5000 [8:54:03<1:40:17,  7.52s/it]"
     ]
    },
    {
     "name": "stdout",
     "output_type": "stream",
     "text": [
      "Episode: 4200, score: 1.783000, window mean: 1.678850\n"
     ]
    },
    {
     "name": "stderr",
     "output_type": "stream",
     "text": [
      " 84%|████████▍ | 4220/5000 [8:56:39<1:37:56,  7.53s/it]"
     ]
    },
    {
     "name": "stdout",
     "output_type": "stream",
     "text": [
      "Episode: 4220, score: 1.557500, window mean: 1.658715\n"
     ]
    },
    {
     "name": "stderr",
     "output_type": "stream",
     "text": [
      " 85%|████████▍ | 4240/5000 [8:59:09<1:34:49,  7.49s/it]"
     ]
    },
    {
     "name": "stdout",
     "output_type": "stream",
     "text": [
      "Episode: 4240, score: 1.242500, window mean: 1.644540\n"
     ]
    },
    {
     "name": "stderr",
     "output_type": "stream",
     "text": [
      " 85%|████████▌ | 4260/5000 [9:01:41<1:33:17,  7.56s/it]"
     ]
    },
    {
     "name": "stdout",
     "output_type": "stream",
     "text": [
      "Episode: 4260, score: 0.890500, window mean: 1.618785\n"
     ]
    },
    {
     "name": "stderr",
     "output_type": "stream",
     "text": [
      " 86%|████████▌ | 4280/5000 [9:04:11<1:30:06,  7.51s/it]"
     ]
    },
    {
     "name": "stdout",
     "output_type": "stream",
     "text": [
      "Episode: 4280, score: 1.514000, window mean: 1.611725\n"
     ]
    },
    {
     "name": "stderr",
     "output_type": "stream",
     "text": [
      " 86%|████████▌ | 4300/5000 [9:06:42<1:27:28,  7.50s/it]"
     ]
    },
    {
     "name": "stdout",
     "output_type": "stream",
     "text": [
      "Episode: 4300, score: 2.198500, window mean: 1.568955\n"
     ]
    },
    {
     "name": "stderr",
     "output_type": "stream",
     "text": [
      " 86%|████████▋ | 4320/5000 [9:09:13<1:24:41,  7.47s/it]"
     ]
    },
    {
     "name": "stdout",
     "output_type": "stream",
     "text": [
      "Episode: 4320, score: 1.516000, window mean: 1.565225\n"
     ]
    },
    {
     "name": "stderr",
     "output_type": "stream",
     "text": [
      " 87%|████████▋ | 4340/5000 [9:11:43<1:23:04,  7.55s/it]"
     ]
    },
    {
     "name": "stdout",
     "output_type": "stream",
     "text": [
      "Episode: 4340, score: 1.825500, window mean: 1.544155\n"
     ]
    },
    {
     "name": "stderr",
     "output_type": "stream",
     "text": [
      " 87%|████████▋ | 4360/5000 [9:14:14<1:20:12,  7.52s/it]"
     ]
    },
    {
     "name": "stdout",
     "output_type": "stream",
     "text": [
      "Episode: 4360, score: 1.513000, window mean: 1.519785\n"
     ]
    },
    {
     "name": "stderr",
     "output_type": "stream",
     "text": [
      " 88%|████████▊ | 4380/5000 [9:16:45<1:17:42,  7.52s/it]"
     ]
    },
    {
     "name": "stdout",
     "output_type": "stream",
     "text": [
      "Episode: 4380, score: 1.515500, window mean: 1.540485\n"
     ]
    },
    {
     "name": "stderr",
     "output_type": "stream",
     "text": [
      " 88%|████████▊ | 4400/5000 [9:19:16<1:15:44,  7.57s/it]"
     ]
    },
    {
     "name": "stdout",
     "output_type": "stream",
     "text": [
      "Episode: 4400, score: 1.529000, window mean: 1.548880\n"
     ]
    },
    {
     "name": "stderr",
     "output_type": "stream",
     "text": [
      " 88%|████████▊ | 4420/5000 [9:21:46<1:12:33,  7.51s/it]"
     ]
    },
    {
     "name": "stdout",
     "output_type": "stream",
     "text": [
      "Episode: 4420, score: 1.605500, window mean: 1.540590\n"
     ]
    },
    {
     "name": "stderr",
     "output_type": "stream",
     "text": [
      " 89%|████████▉ | 4440/5000 [9:24:16<1:10:03,  7.51s/it]"
     ]
    },
    {
     "name": "stdout",
     "output_type": "stream",
     "text": [
      "Episode: 4440, score: 1.347500, window mean: 1.544315\n"
     ]
    },
    {
     "name": "stderr",
     "output_type": "stream",
     "text": [
      " 89%|████████▉ | 4460/5000 [9:26:52<1:07:36,  7.51s/it]"
     ]
    },
    {
     "name": "stdout",
     "output_type": "stream",
     "text": [
      "Episode: 4460, score: 1.722500, window mean: 1.561070\n"
     ]
    },
    {
     "name": "stderr",
     "output_type": "stream",
     "text": [
      " 90%|████████▉ | 4480/5000 [9:29:22<1:05:44,  7.59s/it]"
     ]
    },
    {
     "name": "stdout",
     "output_type": "stream",
     "text": [
      "Episode: 4480, score: 1.653000, window mean: 1.524005\n"
     ]
    },
    {
     "name": "stderr",
     "output_type": "stream",
     "text": [
      " 90%|█████████ | 4500/5000 [9:31:53<1:02:29,  7.50s/it]"
     ]
    },
    {
     "name": "stdout",
     "output_type": "stream",
     "text": [
      "Episode: 4500, score: 1.461500, window mean: 1.518840\n"
     ]
    },
    {
     "name": "stderr",
     "output_type": "stream",
     "text": [
      " 90%|█████████ | 4520/5000 [9:34:23<59:49,  7.48s/it]  "
     ]
    },
    {
     "name": "stdout",
     "output_type": "stream",
     "text": [
      "Episode: 4520, score: 1.819500, window mean: 1.505340\n"
     ]
    },
    {
     "name": "stderr",
     "output_type": "stream",
     "text": [
      " 91%|█████████ | 4540/5000 [9:36:55<58:02,  7.57s/it]  "
     ]
    },
    {
     "name": "stdout",
     "output_type": "stream",
     "text": [
      "Episode: 4540, score: 1.287500, window mean: 1.505165\n"
     ]
    },
    {
     "name": "stderr",
     "output_type": "stream",
     "text": [
      " 91%|█████████ | 4560/5000 [9:39:26<55:38,  7.59s/it]"
     ]
    },
    {
     "name": "stdout",
     "output_type": "stream",
     "text": [
      "Episode: 4560, score: 1.736500, window mean: 1.507830\n"
     ]
    },
    {
     "name": "stderr",
     "output_type": "stream",
     "text": [
      " 92%|█████████▏| 4580/5000 [9:41:56<52:33,  7.51s/it]"
     ]
    },
    {
     "name": "stdout",
     "output_type": "stream",
     "text": [
      "Episode: 4580, score: 1.257500, window mean: 1.502275\n"
     ]
    },
    {
     "name": "stderr",
     "output_type": "stream",
     "text": [
      " 92%|█████████▏| 4600/5000 [9:44:27<49:57,  7.49s/it]"
     ]
    },
    {
     "name": "stdout",
     "output_type": "stream",
     "text": [
      "Episode: 4600, score: 1.317000, window mean: 1.508190\n"
     ]
    },
    {
     "name": "stderr",
     "output_type": "stream",
     "text": [
      " 92%|█████████▏| 4620/5000 [9:46:57<47:25,  7.49s/it]"
     ]
    },
    {
     "name": "stdout",
     "output_type": "stream",
     "text": [
      "Episode: 4620, score: 1.737000, window mean: 1.528550\n"
     ]
    },
    {
     "name": "stderr",
     "output_type": "stream",
     "text": [
      " 93%|█████████▎| 4640/5000 [9:49:28<45:29,  7.58s/it]"
     ]
    },
    {
     "name": "stdout",
     "output_type": "stream",
     "text": [
      "Episode: 4640, score: 1.428500, window mean: 1.533490\n"
     ]
    },
    {
     "name": "stderr",
     "output_type": "stream",
     "text": [
      " 93%|█████████▎| 4660/5000 [9:51:58<42:32,  7.51s/it]"
     ]
    },
    {
     "name": "stdout",
     "output_type": "stream",
     "text": [
      "Episode: 4660, score: 1.956500, window mean: 1.527685\n"
     ]
    },
    {
     "name": "stderr",
     "output_type": "stream",
     "text": [
      " 94%|█████████▎| 4680/5000 [9:54:28<40:04,  7.52s/it]"
     ]
    },
    {
     "name": "stdout",
     "output_type": "stream",
     "text": [
      "Episode: 4680, score: 1.265500, window mean: 1.542200\n"
     ]
    },
    {
     "name": "stderr",
     "output_type": "stream",
     "text": [
      " 94%|█████████▍| 4700/5000 [9:57:04<37:28,  7.50s/it]"
     ]
    },
    {
     "name": "stdout",
     "output_type": "stream",
     "text": [
      "Episode: 4700, score: 1.412500, window mean: 1.552430\n"
     ]
    },
    {
     "name": "stderr",
     "output_type": "stream",
     "text": [
      " 94%|█████████▍| 4720/5000 [9:59:35<35:20,  7.57s/it]"
     ]
    },
    {
     "name": "stdout",
     "output_type": "stream",
     "text": [
      "Episode: 4720, score: 1.844500, window mean: 1.519540\n"
     ]
    },
    {
     "name": "stderr",
     "output_type": "stream",
     "text": [
      " 95%|█████████▍| 4740/5000 [10:02:06<32:35,  7.52s/it]"
     ]
    },
    {
     "name": "stdout",
     "output_type": "stream",
     "text": [
      "Episode: 4740, score: 1.571000, window mean: 1.505795\n"
     ]
    },
    {
     "name": "stderr",
     "output_type": "stream",
     "text": [
      " 95%|█████████▌| 4760/5000 [10:04:36<30:01,  7.51s/it]"
     ]
    },
    {
     "name": "stdout",
     "output_type": "stream",
     "text": [
      "Episode: 4760, score: 1.894000, window mean: 1.512795\n"
     ]
    },
    {
     "name": "stderr",
     "output_type": "stream",
     "text": [
      " 96%|█████████▌| 4780/5000 [10:07:06<27:23,  7.47s/it]"
     ]
    },
    {
     "name": "stdout",
     "output_type": "stream",
     "text": [
      "Episode: 4780, score: 1.622000, window mean: 1.498885\n"
     ]
    },
    {
     "name": "stderr",
     "output_type": "stream",
     "text": [
      " 96%|█████████▌| 4800/5000 [10:09:37<25:13,  7.57s/it]"
     ]
    },
    {
     "name": "stdout",
     "output_type": "stream",
     "text": [
      "Episode: 4800, score: 1.787000, window mean: 1.506120\n"
     ]
    },
    {
     "name": "stderr",
     "output_type": "stream",
     "text": [
      " 96%|█████████▋| 4820/5000 [10:12:08<22:33,  7.52s/it]"
     ]
    },
    {
     "name": "stdout",
     "output_type": "stream",
     "text": [
      "Episode: 4820, score: 1.862000, window mean: 1.562250\n"
     ]
    },
    {
     "name": "stderr",
     "output_type": "stream",
     "text": [
      " 97%|█████████▋| 4840/5000 [10:14:38<20:03,  7.52s/it]"
     ]
    },
    {
     "name": "stdout",
     "output_type": "stream",
     "text": [
      "Episode: 4840, score: 1.912500, window mean: 1.614980\n"
     ]
    },
    {
     "name": "stderr",
     "output_type": "stream",
     "text": [
      " 97%|█████████▋| 4860/5000 [10:17:09<17:32,  7.52s/it]"
     ]
    },
    {
     "name": "stdout",
     "output_type": "stream",
     "text": [
      "Episode: 4860, score: 1.902500, window mean: 1.672970\n"
     ]
    },
    {
     "name": "stderr",
     "output_type": "stream",
     "text": [
      " 98%|█████████▊| 4880/5000 [10:19:39<14:59,  7.50s/it]"
     ]
    },
    {
     "name": "stdout",
     "output_type": "stream",
     "text": [
      "Episode: 4880, score: 1.562500, window mean: 1.733695\n"
     ]
    },
    {
     "name": "stderr",
     "output_type": "stream",
     "text": [
      " 98%|█████████▊| 4900/5000 [10:22:10<12:31,  7.51s/it]"
     ]
    },
    {
     "name": "stdout",
     "output_type": "stream",
     "text": [
      "Episode: 4900, score: 2.116500, window mean: 1.756410\n"
     ]
    },
    {
     "name": "stderr",
     "output_type": "stream",
     "text": [
      " 98%|█████████▊| 4920/5000 [10:24:40<10:00,  7.51s/it]"
     ]
    },
    {
     "name": "stdout",
     "output_type": "stream",
     "text": [
      "Episode: 4920, score: 1.236000, window mean: 1.760455\n"
     ]
    },
    {
     "name": "stderr",
     "output_type": "stream",
     "text": [
      " 99%|█████████▉| 4940/5000 [10:27:16<07:40,  7.68s/it]"
     ]
    },
    {
     "name": "stdout",
     "output_type": "stream",
     "text": [
      "Episode: 4940, score: 1.786500, window mean: 1.729075\n"
     ]
    },
    {
     "name": "stderr",
     "output_type": "stream",
     "text": [
      " 99%|█████████▉| 4960/5000 [10:29:47<05:02,  7.57s/it]"
     ]
    },
    {
     "name": "stdout",
     "output_type": "stream",
     "text": [
      "Episode: 4960, score: 1.289500, window mean: 1.719935\n"
     ]
    },
    {
     "name": "stderr",
     "output_type": "stream",
     "text": [
      "100%|█████████▉| 4980/5000 [10:32:17<02:29,  7.49s/it]"
     ]
    },
    {
     "name": "stdout",
     "output_type": "stream",
     "text": [
      "Episode: 4980, score: 1.674000, window mean: 1.732735\n"
     ]
    },
    {
     "name": "stderr",
     "output_type": "stream",
     "text": [
      "100%|██████████| 5000/5000 [10:34:48<00:00,  7.62s/it]"
     ]
    },
    {
     "name": "stdout",
     "output_type": "stream",
     "text": [
      "Episode: 5000, score: 2.116500, window mean: 1.754155\n"
     ]
    },
    {
     "name": "stderr",
     "output_type": "stream",
     "text": [
      "\n"
     ]
    },
    {
     "data": {
      "text/plain": [
       "[0.7534999831579625,\n",
       " 0.5224999883212149,\n",
       " 0.7194999839179218,\n",
       " 0.76649998286739,\n",
       " 0.7449999833479524,\n",
       " 0.9029999798163771,\n",
       " 0.7194999839179218,\n",
       " 1.0979999754577876,\n",
       " 0.9364999790675939,\n",
       " 0.7739999826997519,\n",
       " 0.8989999799057842,\n",
       " 0.7799999825656414,\n",
       " 0.813499981816858,\n",
       " 0.8024999820627272,\n",
       " 0.8259999815374612,\n",
       " 0.8779999803751707,\n",
       " 1.1859999734908342,\n",
       " 1.0964999754913152,\n",
       " 1.1944999733008443,\n",
       " 0.9059999797493219,\n",
       " 1.1474999743513763,\n",
       " 1.0934999755583703,\n",
       " 1.0939999755471945,\n",
       " 1.0129999773576857,\n",
       " 1.1364999745972455,\n",
       " 0.9059999797493219,\n",
       " 1.1014999753795565,\n",
       " 1.026999977044761,\n",
       " 1.1814999735914171,\n",
       " 1.1519999742507934,\n",
       " 1.0394999767653643,\n",
       " 1.080999975837767,\n",
       " 0.9439999788999558,\n",
       " 0.7294999836944044,\n",
       " 1.0544999764300882,\n",
       " 1.0354999768547715,\n",
       " 1.1859999734908342,\n",
       " 1.1239999748766423,\n",
       " 1.5129999661818148,\n",
       " 1.1564999741502107,\n",
       " 1.111499975156039,\n",
       " 1.2574999718926847,\n",
       " 1.3294999702833592,\n",
       " 1.3394999700598418,\n",
       " 1.2129999728873373,\n",
       " 1.5794999646954238,\n",
       " 1.5134999661706388,\n",
       " 1.1574999741278589,\n",
       " 1.5519999653100967,\n",
       " 1.2789999714121223,\n",
       " 1.3604999695904554,\n",
       " 0.9779999781399965,\n",
       " 1.4454999676905573,\n",
       " 1.5929999643936754,\n",
       " 1.2574999718926847,\n",
       " 1.266499971691519,\n",
       " 1.6839999623596669,\n",
       " 1.443999967724085,\n",
       " 1.5199999660253525,\n",
       " 1.553499965276569,\n",
       " 1.4089999685063959,\n",
       " 1.355999969691038,\n",
       " 1.2219999726861714,\n",
       " 1.2944999710656702,\n",
       " 1.0254999770782889,\n",
       " 1.3144999706186353,\n",
       " 1.126999974809587,\n",
       " 1.246999972127378,\n",
       " 1.328499970305711,\n",
       " 1.3614999695681036,\n",
       " 1.2629999717697502,\n",
       " 1.292999971099198,\n",
       " 1.5659999649971723,\n",
       " 1.4344999679364263,\n",
       " 1.5429999655112625,\n",
       " 1.3154999705962838,\n",
       " 1.6064999640919269,\n",
       " 1.525499965902418,\n",
       " 1.521499965991825,\n",
       " 1.5829999646171928,\n",
       " 1.2909999711439013,\n",
       " 1.4284999680705368,\n",
       " 1.4884999667294323,\n",
       " 1.3949999688193202,\n",
       " 1.5514999653212727,\n",
       " 1.3914999688975513,\n",
       " 1.3904999689199031,\n",
       " 1.409999968484044,\n",
       " 1.4894999667070805,\n",
       " 1.3174999705515802,\n",
       " 1.2919999711215495,\n",
       " 1.5054999663494528,\n",
       " 1.4359999679028987,\n",
       " 1.7369999611750244,\n",
       " 1.2654999717138709,\n",
       " 1.1519999742507934,\n",
       " 0.9729999782517552,\n",
       " 1.370499969366938,\n",
       " 1.5159999661147594,\n",
       " 1.5709999648854136,\n",
       " 1.0169999772682785,\n",
       " 1.4094999684952199,\n",
       " 0.8124999818392098,\n",
       " 1.0329999769106508,\n",
       " 1.4389999678358436,\n",
       " 0.8354999813251197,\n",
       " 1.0679999761283399,\n",
       " 1.2329999724403025,\n",
       " 0.7304999836720526,\n",
       " 0.9614999785088003,\n",
       " 1.0964999754913152,\n",
       " 1.2099999729543924,\n",
       " 1.0289999770000577,\n",
       " 0.9749999782070518,\n",
       " 1.014999977312982,\n",
       " 1.0254999770782889,\n",
       " 1.2734999715350568,\n",
       " 1.1959999732673168,\n",
       " 1.1459999743849039,\n",
       " 0.9574999785982072,\n",
       " 0.9054999797604978,\n",
       " 0.8634999806992709,\n",
       " 0.6824999847449362,\n",
       " 0.913999979570508,\n",
       " 0.8244999815709889,\n",
       " 0.5919999867677689,\n",
       " 0.8309999814257025,\n",
       " 0.9279999792575836,\n",
       " 0.9094999796710909,\n",
       " 0.9309999791905283,\n",
       " 1.0279999770224095,\n",
       " 0.8459999810904264,\n",
       " 1.2444999721832573,\n",
       " 1.0164999772794545,\n",
       " 1.0254999770782889,\n",
       " 0.8334999813698232,\n",
       " 0.7314999836497009,\n",
       " 0.9124999796040356,\n",
       " 0.9374999790452421,\n",
       " 0.886499980185181,\n",
       " 0.8119999818503857,\n",
       " 0.9159999795258045,\n",
       " 1.2104999729432167,\n",
       " 0.8184999817050993,\n",
       " 1.4144999683834611,\n",
       " 1.1834999735467135,\n",
       " 0.8274999815039337,\n",
       " 0.8509999809786677,\n",
       " 0.6229999860748648,\n",
       " 0.9094999796710909,\n",
       " 1.0154999773018063,\n",
       " 1.1429999744519592,\n",
       " 0.8339999813586474,\n",
       " 0.8839999802410603,\n",
       " 0.8784999803639948,\n",
       " 1.060499976295978,\n",
       " 1.0474999765865505,\n",
       " 0.8254999815486371,\n",
       " 1.045499976631254,\n",
       " 1.0939999755471945,\n",
       " 0.9394999790005386,\n",
       " 0.925499979313463,\n",
       " 1.0424999766983092,\n",
       " 0.8379999812692404,\n",
       " 0.9514999787323177,\n",
       " 0.8684999805875122,\n",
       " 0.8444999811239541,\n",
       " 0.6799999848008156,\n",
       " 1.0359999768435955,\n",
       " 0.6899999845772982,\n",
       " 0.8624999807216227,\n",
       " 0.9074999797157943,\n",
       " 0.7684999828226864,\n",
       " 0.9474999788217247,\n",
       " 1.0944999755360185,\n",
       " 0.8479999810457229,\n",
       " 0.8599999807775021,\n",
       " 0.7524999831803143,\n",
       " 0.7054999842308461,\n",
       " 0.7809999825432896,\n",
       " 0.8709999805316329,\n",
       " 0.6879999846220016,\n",
       " 0.6059999864548444,\n",
       " 0.8504999809898436,\n",
       " 0.7669999828562141,\n",
       " 0.9834999780170619,\n",
       " 0.7859999824315309,\n",
       " 0.7814999825321138,\n",
       " 0.8229999816045165,\n",
       " 0.9384999790228903,\n",
       " 0.8179999817162752,\n",
       " 0.8449999811127782,\n",
       " 0.7219999838620424,\n",
       " 0.7089999841526151,\n",
       " 0.7759999826550483,\n",
       " 0.9049999797716737,\n",
       " 0.6289999859407545,\n",
       " 0.6979999843984842,\n",
       " 0.5579999875277281,\n",
       " 0.7904999823309481,\n",
       " 0.8024999820627272,\n",
       " 0.9249999793246388,\n",
       " 0.6739999849349261,\n",
       " 0.8604999807663262,\n",
       " 0.7929999822750687,\n",
       " 1.003499977570027,\n",
       " 0.7764999826438725,\n",
       " 0.7539999831467867,\n",
       " 0.7024999842979014,\n",
       " 0.8414999811910093,\n",
       " 0.8514999809674919,\n",
       " 0.6324999858625233,\n",
       " 0.5804999870248139,\n",
       " 0.7839999824762345,\n",
       " 0.7669999828562141,\n",
       " 0.6444999855943024,\n",
       " 0.9479999788105488,\n",
       " 0.9019999798387289,\n",
       " 0.704999984242022,\n",
       " 0.6719999849796295,\n",
       " 0.8604999807663262,\n",
       " 0.7129999840632081,\n",
       " 0.526499988231808,\n",
       " 0.7324999836273491,\n",
       " 0.9314999791793526,\n",
       " 0.7674999828450382,\n",
       " 0.9079999797046184,\n",
       " 0.7574999830685556,\n",
       " 0.7914999823085964,\n",
       " 0.8469999810680747,\n",
       " 0.6754999849013984,\n",
       " 0.944999978877604,\n",
       " 0.9459999788552522,\n",
       " 0.7609999829903245,\n",
       " 0.6524999854154885,\n",
       " 0.8179999817162752,\n",
       " 1.014999977312982,\n",
       " 0.9159999795258045,\n",
       " 0.7949999822303653,\n",
       " 0.7909999823197722,\n",
       " 0.9084999796934425,\n",
       " 0.8189999816939235,\n",
       " 0.8039999820291996,\n",
       " 0.8449999811127782,\n",
       " 1.0284999770112335,\n",
       " 0.6604999852366745,\n",
       " 0.8819999802857638,\n",
       " 0.8344999813474715,\n",
       " 0.8524999809451401,\n",
       " 0.9064999797381461,\n",
       " 0.5754999871365726,\n",
       " 1.0389999767765403,\n",
       " 0.8369999812915921,\n",
       " 0.6744999849237502,\n",
       " 0.9204999794252217,\n",
       " 0.7599999830126762,\n",
       " 0.7229999838396907,\n",
       " 1.0964999754913152,\n",
       " 0.8239999815821648,\n",
       " 0.8429999811574816,\n",
       " 0.9659999784082174,\n",
       " 1.0509999765083193,\n",
       " 0.9259999793022871,\n",
       " 0.7694999828003347,\n",
       " 0.758999983035028,\n",
       " 0.9939999777823687,\n",
       " 0.9389999790117145,\n",
       " 0.7974999821744859,\n",
       " 0.7454999833367765,\n",
       " 1.048999976553023,\n",
       " 0.7594999830238521,\n",
       " 1.0404999767430128,\n",
       " 0.9299999792128801,\n",
       " 1.026999977044761,\n",
       " 0.8614999807439745,\n",
       " 1.2404999722726644,\n",
       " 1.0209999771788716,\n",
       " 1.0239999771118165,\n",
       " 1.1914999733678997,\n",
       " 1.0369999768212437,\n",
       " 0.9149999795481563,\n",
       " 0.8114999818615616,\n",
       " 0.7274999837391078,\n",
       " 1.0294999769888817,\n",
       " 1.0729999760165811,\n",
       " 0.8974999799393117,\n",
       " 1.1199999749660492,\n",
       " 0.9474999788217247,\n",
       " 0.7304999836720526,\n",
       " 0.7594999830238521,\n",
       " 1.0779999759048224,\n",
       " 0.9304999792017042,\n",
       " 1.0314999769441784,\n",
       " 0.9709999782964587,\n",
       " 0.9429999789223075,\n",
       " 1.0239999771118165,\n",
       " 0.8159999817609787,\n",
       " 0.8544999809004367,\n",
       " 1.146999974362552,\n",
       " 0.971999978274107,\n",
       " 0.8734999804757535,\n",
       " 0.8004999821074307,\n",
       " 0.9569999786093831,\n",
       " 0.9409999789670109,\n",
       " 0.9704999783076346,\n",
       " 1.0174999772571027,\n",
       " 0.8009999820962548,\n",
       " 0.9774999781511724,\n",
       " 0.9534999786876142,\n",
       " 0.886999980174005,\n",
       " 0.9624999784864485,\n",
       " 0.9734999782405793,\n",
       " 0.9559999786317348,\n",
       " 0.7889999823644758,\n",
       " 0.9394999790005386,\n",
       " 1.052999976463616,\n",
       " 0.8244999815709889,\n",
       " 0.7864999824203551,\n",
       " 0.8889999801293016,\n",
       " 0.9339999791234732,\n",
       " 1.0709999760612845,\n",
       " 0.9534999786876142,\n",
       " 1.0894999756477772,\n",
       " 0.8449999811127782,\n",
       " 0.8874999801628292,\n",
       " 0.9479999788105488,\n",
       " 1.0594999763183295,\n",
       " 0.9359999790787696,\n",
       " 0.971999978274107,\n",
       " 1.060499976295978,\n",
       " 0.9764999781735242,\n",
       " 0.8624999807216227,\n",
       " 1.0474999765865505,\n",
       " 1.0514999764971436,\n",
       " 0.8349999813362956,\n",
       " 1.0849999757483602,\n",
       " 0.716499983984977,\n",
       " 0.9194999794475734,\n",
       " 0.9804999780841172,\n",
       " 0.8504999809898436,\n",
       " 0.9554999786429107,\n",
       " 0.8624999807216227,\n",
       " 0.9729999782517552,\n",
       " 1.1019999753683805,\n",
       " 1.0704999760724605,\n",
       " 0.778499982599169,\n",
       " 0.8374999812804163,\n",
       " 0.735999983549118,\n",
       " 0.9279999792575836,\n",
       " 1.0084999774582684,\n",
       " 1.2114999729208649,\n",
       " 0.8294999814592302,\n",
       " 1.1674999739043415,\n",
       " 1.1649999739602208,\n",
       " 1.0274999770335853,\n",
       " 0.9594999785535038,\n",
       " 0.6534999853931367,\n",
       " 1.0679999761283399,\n",
       " 0.8679999805986881,\n",
       " 1.1244999748654663,\n",
       " 1.0359999768435955,\n",
       " 1.2349999723955989,\n",
       " 1.018499977234751,\n",
       " 0.9424999789334834,\n",
       " 0.9619999784976244,\n",
       " 0.7264999837614596,\n",
       " 0.9124999796040356,\n",
       " 0.7229999838396907,\n",
       " 0.72049998389557,\n",
       " 1.1749999737367034,\n",
       " 1.0279999770224095,\n",
       " 1.0089999774470926,\n",
       " 1.188999973423779,\n",
       " 0.8009999820962548,\n",
       " 1.084499975759536,\n",
       " 1.1009999753907322,\n",
       " 0.9749999782070518,\n",
       " 0.9739999782294035,\n",
       " 0.9769999781623483,\n",
       " 0.7924999822862446,\n",
       " 0.7849999824538827,\n",
       " 0.8444999811239541,\n",
       " 0.8884999801404774,\n",
       " 0.9339999791234732,\n",
       " 0.9349999791011214,\n",
       " 0.9679999783635139,\n",
       " 0.9009999798610806,\n",
       " 1.0539999764412642,\n",
       " 0.9694999783299864,\n",
       " 0.9754999781958759,\n",
       " 0.9274999792687595,\n",
       " 0.9444999788887799,\n",
       " 0.8379999812692404,\n",
       " 0.8509999809786677,\n",
       " 1.0309999769553542,\n",
       " 0.8204999816603958,\n",
       " 1.095999975502491,\n",
       " 1.0249999770894647,\n",
       " 0.6704999850131571,\n",
       " 0.979999978095293,\n",
       " 0.8839999802410603,\n",
       " 0.7939999822527171,\n",
       " 0.7924999822862446,\n",
       " 0.9029999798163771,\n",
       " 0.851999980956316,\n",
       " 0.7344999835826457,\n",
       " 1.1069999752566217,\n",
       " 1.1419999744743108,\n",
       " 0.5919999867677689,\n",
       " 0.7494999832473696,\n",
       " 0.9299999792128801,\n",
       " 0.8604999807663262,\n",
       " 0.8264999815262855,\n",
       " 0.7584999830462038,\n",
       " 0.8654999806545675,\n",
       " 0.9389999790117145,\n",
       " 0.8769999803975225,\n",
       " 0.6599999852478504,\n",
       " 0.6974999844096601,\n",
       " 0.6554999853484332,\n",
       " 0.8924999800510705,\n",
       " 0.778499982599169,\n",
       " 1.2144999728538095,\n",
       " 0.7634999829344451,\n",
       " 0.8879999801516533,\n",
       " 0.6579999852925539,\n",
       " 0.9689999783411622,\n",
       " 0.9509999787434935,\n",
       " 0.5599999874830246,\n",
       " 0.8239999815821648,\n",
       " 1.0209999771788716,\n",
       " 0.7119999840855599,\n",
       " 0.8279999814927578,\n",
       " 0.6199999861419201,\n",
       " 0.685499984677881,\n",
       " 0.6994999843649566,\n",
       " 0.623499986063689,\n",
       " 0.7414999834261835,\n",
       " 0.8239999815821648,\n",
       " 0.7729999827221036,\n",
       " 0.8004999821074307,\n",
       " 0.8609999807551503,\n",
       " 0.6629999851807952,\n",
       " 0.6709999850019812,\n",
       " 0.9274999792687595,\n",
       " 0.9004999798722565,\n",
       " 0.9224999793805182,\n",
       " 0.7274999837391078,\n",
       " 0.6849999846890569,\n",
       " 0.89849997991696,\n",
       " 0.6579999852925539,\n",
       " 0.5879999868571758,\n",
       " 0.87549998043105,\n",
       " 0.8469999810680747,\n",
       " 0.7294999836944044,\n",
       " 1.0014999776147306,\n",
       " 0.4264999904669821,\n",
       " 0.5884999868459999,\n",
       " 0.7614999829791487,\n",
       " 0.6129999862983823,\n",
       " 0.7464999833144248,\n",
       " 0.770999982766807,\n",
       " 0.9029999798163771,\n",
       " 0.7544999831356108,\n",
       " 0.8769999803975225,\n",
       " 1.0434999766759574,\n",
       " 0.8319999814033509,\n",
       " 0.9244999793358147,\n",
       " 0.48499998915940523,\n",
       " 0.5129999885335564,\n",
       " 0.5989999866113067,\n",
       " 0.7134999840520322,\n",
       " 1.0084999774582684,\n",
       " 0.7684999828226864,\n",
       " 0.7344999835826457,\n",
       " 0.7154999840073287,\n",
       " 0.7814999825321138,\n",
       " 0.9144999795593322,\n",
       " 0.603999986499548,\n",
       " 0.654499985370785,\n",
       " 0.8494999810121954,\n",
       " 0.7779999826103449,\n",
       " 0.8894999801181257,\n",
       " 0.836499981302768,\n",
       " 0.5534999876283109,\n",
       " 0.677999984845519,\n",
       " 0.7609999829903245,\n",
       " 1.069499976094812,\n",
       " 0.8544999809004367,\n",
       " 0.5904999868012965,\n",
       " 0.6679999850690365,\n",
       " 0.7914999823085964,\n",
       " 1.0634999762289226,\n",
       " 0.8584999808110296,\n",
       " 0.7734999827109277,\n",
       " 1.0364999768324197,\n",
       " 0.809499981906265,\n",
       " 0.661999985203147,\n",
       " 0.913999979570508,\n",
       " 0.9199999794363976,\n",
       " 0.8554999808780849,\n",
       " 0.894499980006367,\n",
       " 0.8499999810010195,\n",
       " 0.8704999805428087,\n",
       " 0.979999978095293,\n",
       " 0.5474999877624214,\n",
       " 0.68899998459965,\n",
       " 0.7489999832585454,\n",
       " 0.6054999864660203,\n",
       " 0.6399999856948853,\n",
       " 0.782499982509762,\n",
       " 0.6414999856613577,\n",
       " 0.8684999805875122,\n",
       " 0.9544999786652625,\n",
       " 0.9899999778717756,\n",
       " 0.9349999791011214,\n",
       " 0.7374999835155904,\n",
       " 1.1079999752342702,\n",
       " 0.832499981392175,\n",
       " 0.9434999789111316,\n",
       " 0.9354999790899455,\n",
       " 1.1749999737367034,\n",
       " 0.9654999784193933,\n",
       " 1.0834999757818877,\n",
       " 0.894499980006367,\n",
       " 1.257999971881509,\n",
       " 1.2869999712333082,\n",
       " 1.0319999769330024,\n",
       " 0.8139999818056822,\n",
       " 0.9784999781288206,\n",
       " 1.119499974977225,\n",
       " 1.1174999750219285,\n",
       " 1.126999974809587,\n",
       " 1.1629999740049244,\n",
       " 0.7874999823980033,\n",
       " 1.0644999762065708,\n",
       " 0.8699999805539846,\n",
       " 0.727999983727932,\n",
       " 1.13099997472018,\n",
       " 0.936999979056418,\n",
       " 1.0624999762512743,\n",
       " 0.9234999793581664,\n",
       " 0.8884999801404774,\n",
       " 0.7654999828897416,\n",
       " 1.0759999759495258,\n",
       " 0.7689999828115106,\n",
       " 0.9339999791234732,\n",
       " 1.0579999763518573,\n",
       " 0.9354999790899455,\n",
       " 0.8544999809004367,\n",
       " 0.8459999810904264,\n",
       " 0.8454999811016023,\n",
       " 0.813499981816858,\n",
       " 0.9474999788217247,\n",
       " 1.250499972049147,\n",
       " 1.242999972216785,\n",
       " 0.963999978452921,\n",
       " 1.049499976541847,\n",
       " 1.1049999753013253,\n",
       " 0.9454999788664281,\n",
       " 1.0739999759942294,\n",
       " 0.8764999804086984,\n",
       " 1.1364999745972455,\n",
       " 1.2409999722614884,\n",
       " 1.0589999763295055,\n",
       " 1.227499972563237,\n",
       " 0.9019999798387289,\n",
       " 0.9489999787881971,\n",
       " 1.103499975334853,\n",
       " 0.801499982085079,\n",
       " 0.7054999842308461,\n",
       " 0.9424999789334834,\n",
       " 0.9599999785423279,\n",
       " 0.7349999835714698,\n",
       " 0.7819999825209379,\n",
       " 1.1594999740831553,\n",
       " 1.037499976810068,\n",
       " 1.1844999735243618,\n",
       " 0.9544999786652625,\n",
       " 0.8884999801404774,\n",
       " 1.188999973423779,\n",
       " 1.1479999743402005,\n",
       " 1.0654999761842192,\n",
       " 1.0794999758712946,\n",
       " 1.0664999761618674,\n",
       " 0.9059999797493219,\n",
       " 1.4349999679252505,\n",
       " 1.2074999730102718,\n",
       " 1.0584999763406813,\n",
       " 1.1394999745301901,\n",
       " 0.9789999781176448,\n",
       " 1.146999974362552,\n",
       " 1.0894999756477772,\n",
       " 1.2764999714680016,\n",
       " 1.006999977491796,\n",
       " 1.1479999743402005,\n",
       " 0.9064999797381461,\n",
       " 1.2944999710656702,\n",
       " 1.1224999749101698,\n",
       " 0.9889999778941274,\n",
       " 0.9174999794922769,\n",
       " 1.180499973613769,\n",
       " 1.2564999719150365,\n",
       " 1.130499974731356,\n",
       " 1.1279999747872353,\n",
       " 1.034499976877123,\n",
       " 0.9829999780282378,\n",
       " 1.417499968316406,\n",
       " 1.092499975580722,\n",
       " 0.8394999812357128,\n",
       " 1.0719999760389327,\n",
       " 1.1944999733008443,\n",
       " 1.184999973513186,\n",
       " 0.9974999777041376,\n",
       " 1.1779999736696483,\n",
       " 0.9919999778270722,\n",
       " 1.130499974731356,\n",
       " 0.9324999791570008,\n",
       " 1.0399999767541885,\n",
       " 1.2144999728538095,\n",
       " 1.2514999720267952,\n",
       " 0.8384999812580645,\n",
       " 1.064999976195395,\n",
       " 0.6579999852925539,\n",
       " 0.8139999818056822,\n",
       " 0.9454999788664281,\n",
       " 1.1789999736472965,\n",
       " 1.4624999673105776,\n",
       " 1.293499971088022,\n",
       " 0.8144999817945063,\n",
       " 0.9359999790787696,\n",
       " 0.917999979481101,\n",
       " 0.9224999793805182,\n",
       " 1.1914999733678997,\n",
       " 1.0154999773018063,\n",
       " 1.0159999772906303,\n",
       " 0.8604999807663262,\n",
       " 1.07649997593835,\n",
       " 1.0194999772123992,\n",
       " 1.049499976541847,\n",
       " 0.8774999803863466,\n",
       " 1.0614999762736261,\n",
       " 0.9249999793246388,\n",
       " 0.9094999796710909,\n",
       " 0.902499979827553,\n",
       " 1.2794999714009463,\n",
       " 1.335999970138073,\n",
       " 0.9809999780729413,\n",
       " 1.1929999733343721,\n",
       " 0.9149999795481563,\n",
       " 1.0969999754801392,\n",
       " 1.0719999760389327,\n",
       " 0.7759999826550483,\n",
       " 1.2149999728426337,\n",
       " 1.1444999744184314,\n",
       " 1.0389999767765403,\n",
       " 1.0474999765865505,\n",
       " 1.0039999775588513,\n",
       " 0.8654999806545675,\n",
       " 0.8579999808222055,\n",
       " 0.8114999818615616,\n",
       " 0.8574999808333814,\n",
       " 1.0929999755695463,\n",
       " 1.1474999743513763,\n",
       " 1.3329999702051283,\n",
       " 1.0354999768547715,\n",
       " 1.0119999773800372,\n",
       " 1.0164999772794545,\n",
       " 0.9534999786876142,\n",
       " 1.1529999742284418,\n",
       " 1.4414999677799643,\n",
       " 0.9244999793358147,\n",
       " 0.944999978877604,\n",
       " 1.0214999771676958,\n",
       " 1.154499974194914,\n",
       " 0.716499983984977,\n",
       " 1.1354999746195973,\n",
       " 0.9979999776929617,\n",
       " 0.8479999810457229,\n",
       " 1.0214999771676958,\n",
       " 1.3114999706856907,\n",
       " 1.3969999687746166,\n",
       " 0.9899999778717756,\n",
       " 1.0359999768435955,\n",
       " 0.9264999792911113,\n",
       " 1.1289999747648836,\n",
       " 1.022499977145344,\n",
       " 1.0519999764859675,\n",
       " 1.0394999767653643,\n",
       " 0.7339999835938216,\n",
       " 1.0854999757371844,\n",
       " 1.1134999751113355,\n",
       " 1.0484999765641987,\n",
       " 0.8624999807216227,\n",
       " 1.401999968662858,\n",
       " 1.1449999744072556,\n",
       " 1.274499971512705,\n",
       " 1.189499973412603,\n",
       " 0.9404999789781868,\n",
       " 1.2689999716356397,\n",
       " 0.933499979134649,\n",
       " 0.8409999812021851,\n",
       " 1.3434999699704349,\n",
       " 1.0759999759495258,\n",
       " 1.006499977502972,\n",
       " 0.840499981213361,\n",
       " 0.8264999815262855,\n",
       " 1.0664999761618674,\n",
       " 1.0774999759159982,\n",
       " 1.0314999769441784,\n",
       " 1.0399999767541885,\n",
       " 1.0854999757371844,\n",
       " 0.8619999807327986,\n",
       " 0.9064999797381461,\n",
       " 1.0714999760501087,\n",
       " 1.0864999757148326,\n",
       " 1.052999976463616,\n",
       " 0.9744999782182276,\n",
       " 1.0274999770335853,\n",
       " 0.8619999807327986,\n",
       " 1.1479999743402005,\n",
       " 1.0644999762065708,\n",
       " 1.0164999772794545,\n",
       " 1.2174999727867544,\n",
       " 1.010499977413565,\n",
       " 1.0364999768324197,\n",
       " 0.8824999802745879,\n",
       " 0.9019999798387289,\n",
       " 0.7659999828785657,\n",
       " 0.8929999800398946,\n",
       " 1.1094999752007424,\n",
       " 1.1224999749101698,\n",
       " 1.142499974463135,\n",
       " 0.960499978531152,\n",
       " 0.9809999780729413,\n",
       " 1.0599999763071537,\n",
       " 1.0014999776147306,\n",
       " 1.165499973949045,\n",
       " 1.0014999776147306,\n",
       " 1.0994999754242598,\n",
       " 1.2559999719262123,\n",
       " 1.060999976284802,\n",
       " 1.060999976284802,\n",
       " 1.0869999757036566,\n",
       " 1.2139999728649855,\n",
       " 1.1399999745190144,\n",
       " 1.5549999652430415,\n",
       " 1.1099999751895666,\n",
       " 1.0324999769218266,\n",
       " 1.1294999747537076,\n",
       " 0.9239999793469906,\n",
       " 1.0624999762512743,\n",
       " 1.215499972831458,\n",
       " 1.4584999673999846,\n",
       " 1.2059999730437994,\n",
       " 1.3489999698475004,\n",
       " 1.154499974194914,\n",
       " 1.2544999719597398,\n",
       " 1.1829999735578896,\n",
       " 1.0129999773576857,\n",
       " 0.99899997767061,\n",
       " 0.9649999784305692,\n",
       " 1.2794999714009463,\n",
       " 0.8724999804981053,\n",
       " 1.3759999692440033,\n",
       " 0.9049999797716737,\n",
       " 0.987499977927655,\n",
       " 1.2459999721497297,\n",
       " 1.2414999722503126,\n",
       " 1.1829999735578896,\n",
       " 1.1724999737925828,\n",
       " 1.0309999769553542,\n",
       " 0.6899999845772982,\n",
       " 1.1484999743290245,\n",
       " 1.2269999725744127,\n",
       " 0.9694999783299864,\n",
       " 1.2639999717473984,\n",
       " 1.3104999707080425,\n",
       " 1.3314999702386558,\n",
       " 1.0509999765083193,\n",
       " 0.8384999812580645,\n",
       " 1.2684999716468155,\n",
       " 1.0199999772012234,\n",
       " 1.2169999727979302,\n",
       " 0.824999981559813,\n",
       " 1.0699999760836363,\n",
       " 1.1054999752901495,\n",
       " 0.7199999839067459,\n",
       " 1.014999977312982,\n",
       " 1.816499959398061,\n",
       " 1.1259999748319387,\n",
       " 1.1559999741613864,\n",
       " 1.0054999775253237,\n",
       " 1.2679999716579915,\n",
       " 1.227499972563237,\n",
       " 1.2984999709762632,\n",
       " 1.722999961487949,\n",
       " 1.2284999725408852,\n",
       " 1.4089999685063959,\n",
       " 1.2284999725408852,\n",
       " 1.2519999720156192,\n",
       " 1.2839999713003636,\n",
       " 1.320999970473349,\n",
       " 1.052999976463616,\n",
       " 1.3199999704957008,\n",
       " 1.2544999719597398,\n",
       " 0.8489999810233713,\n",
       " 1.1134999751113355,\n",
       " 1.3034999708645045,\n",
       " 1.0984999754466116,\n",
       " 1.3739999692887068,\n",
       " 1.1374999745748937,\n",
       " 1.4649999672546983,\n",
       " 0.8494999810121954,\n",
       " 1.1439999744296074,\n",
       " 1.4629999672994018,\n",
       " 1.2294999725185334,\n",
       " 1.104499975312501,\n",
       " 1.1954999732784928,\n",
       " 1.0669999761506914,\n",
       " 1.2024999731220305,\n",
       " 1.4224999682046473,\n",
       " 1.0509999765083193,\n",
       " 0.7304999836720526,\n",
       " 1.2444999721832573,\n",
       " 0.8994999798946083,\n",
       " 1.4199999682605267,\n",
       " 0.8574999808333814,\n",
       " 1.1974999732337892,\n",
       " 1.0389999767765403,\n",
       " 0.9249999793246388,\n",
       " 1.351499969791621,\n",
       " 1.076999975927174,\n",
       " 1.219999972730875,\n",
       " 1.1609999740496277,\n",
       " 1.2794999714009463,\n",
       " 1.3194999705068766,\n",
       " 1.0314999769441784,\n",
       " 1.014999977312982,\n",
       " 1.5279999658465386,\n",
       " 1.2979999709874392,\n",
       " 0.9424999789334834,\n",
       " 1.1744999737478792,\n",
       " 1.3199999704957008,\n",
       " 1.2249999726191163,\n",
       " 1.0749999759718776,\n",
       " 1.1004999754019082,\n",
       " 1.1594999740831553,\n",
       " 1.231999972462654,\n",
       " 1.3659999694675207,\n",
       " 1.242999972216785,\n",
       " 1.2279999725520612,\n",
       " 1.088499975670129,\n",
       " 1.3619999695569276,\n",
       " 1.4824999668635428,\n",
       " 1.0824999758042395,\n",
       " 1.146999974362552,\n",
       " 1.3424999699927866,\n",
       " 1.3774999692104757,\n",
       " 1.2129999728873373,\n",
       " 1.3114999706856907,\n",
       " 1.6279999636113645,\n",
       " 1.0994999754242598,\n",
       " 1.1134999751113355,\n",
       " 1.5089999662712217,\n",
       " 1.0319999769330024,\n",
       " 0.9409999789670109,\n",
       " 1.2909999711439013,\n",
       " 1.243499972205609,\n",
       " 1.3219999704509973,\n",
       " 1.0759999759495258,\n",
       " 1.243499972205609,\n",
       " 1.2534999719820916,\n",
       " 1.0654999761842192,\n",
       " 1.1919999733567237,\n",
       " 0.9679999783635139,\n",
       " 0.9249999793246388,\n",
       " 1.475999967008829,\n",
       " 1.5644999650306999,\n",
       " 1.3694999693892895,\n",
       " 1.2034999730996787,\n",
       " 1.165499973949045,\n",
       " 1.2834999713115394,\n",
       " 1.1554999741725624,\n",
       " 0.8859999801963567,\n",
       " 1.3349999701604247,\n",
       " 1.0744999759830534,\n",
       " 1.0619999762624501,\n",
       " 0.848499981034547,\n",
       " 1.0939999755471945,\n",
       " 1.1104999751783908,\n",
       " 1.46399996727705,\n",
       " 1.0159999772906303,\n",
       " 0.7854999824427068,\n",
       " 1.0944999755360185,\n",
       " 1.045499976631254,\n",
       " 1.417499968316406,\n",
       " 0.9039999797940255,\n",
       " 1.4844999668188392,\n",
       " 1.3334999701939523,\n",
       " 1.4534999675117433,\n",
       " 1.2589999718591571,\n",
       " 1.0559999763965606,\n",
       " 1.2309999724850058,\n",
       " 1.30899997074157,\n",
       " 1.0219999771565198,\n",
       " 1.2844999712891876,\n",
       " 1.2879999712109567,\n",
       " 0.8319999814033509,\n",
       " 1.246999972127378,\n",
       " 1.0759999759495258,\n",
       " 0.9749999782070518,\n",
       " 1.3339999701827765,\n",
       " 1.1984999732114374,\n",
       " 1.1874999734573066,\n",
       " 0.9454999788664281,\n",
       " 1.1184999749995768,\n",
       " 1.1429999744519592,\n",
       " 1.5289999658241868,\n",
       " 1.0134999773465097,\n",
       " 1.0739999759942294,\n",
       " 1.238999972306192,\n",
       " 1.0734999760054051,\n",
       " 1.212499972898513,\n",
       " 0.9789999781176448,\n",
       " 1.1219999749213456,\n",
       " 1.0089999774470926,\n",
       " 1.1789999736472965,\n",
       " 1.285499971266836,\n",
       " 1.4869999667629599,\n",
       " 1.2789999714121223,\n",
       " 0.9454999788664281,\n",
       " 1.0539999764412642,\n",
       " 0.979999978095293,\n",
       " 0.9189999794587493,\n",
       " 1.238999972306192,\n",
       " 1.146999974362552,\n",
       " 1.3879999689757825,\n",
       " 1.0229999771341682,\n",
       " 1.3544999697245657,\n",
       " 1.2649999717250466,\n",
       " 1.1219999749213456,\n",
       " 1.0654999761842192,\n",
       " 1.4624999673105776,\n",
       " 1.3394999700598418,\n",
       " 1.3789999691769481,\n",
       " 1.3719999693334102,\n",
       " 1.1814999735914171,\n",
       " 0.9789999781176448,\n",
       " 1.2714999715797604,\n",
       " 1.0544999764300882,\n",
       " 0.9364999790675939,\n",
       " 0.8894999801181257,\n",
       " 1.5524999652989209,\n",
       " 1.2409999722614884,\n",
       " 1.080999975837767,\n",
       " 1.1394999745301901,\n",
       " 0.7734999827109277,\n",
       " 0.9654999784193933,\n",
       " 1.1844999735243618,\n",
       " 0.9649999784305692,\n",
       " 1.316999970562756,\n",
       " 1.1414999744854868,\n",
       " 1.0044999775476753,\n",
       " 1.138499974552542,\n",
       " 0.9654999784193933,\n",
       " 0.944999978877604,\n",
       " 1.1824999735690653,\n",
       " 1.1479999743402005,\n",
       " 1.2514999720267952,\n",
       " 1.196499973256141,\n",
       " 0.9734999782405793,\n",
       " 0.8614999807439745,\n",
       " 0.9884999779053032,\n",
       " 1.2809999713674187,\n",
       " 0.9374999790452421,\n",
       " 1.2219999726861714,\n",
       " 1.2569999719038605,\n",
       " 1.1439999744296074,\n",
       " 1.180999973602593,\n",
       " 1.010499977413565,\n",
       " 1.239499972295016,\n",
       " 0.9889999778941274,\n",
       " 0.8844999802298844,\n",
       " 1.0859999757260084,\n",
       " 0.8669999806210399,\n",
       " 0.8779999803751707,\n",
       " 1.0199999772012234,\n",
       " 1.0869999757036566,\n",
       " 1.3759999692440033,\n",
       " 1.1919999733567237,\n",
       " 1.30049997093156,\n",
       " 1.1794999736361205,\n",
       " 1.1554999741725624,\n",
       " 1.3339999701827765,\n",
       " 0.87549998043105,\n",
       " 1.5319999657571315,\n",
       " 0.9129999795928597,\n",
       " 0.8929999800398946,\n",
       " 0.9674999783746898,\n",
       " ...]"
      ]
     },
     "execution_count": 4,
     "metadata": {},
     "output_type": "execute_result"
    }
   ],
   "source": [
    "mean_rewards = []\n",
    "ppo.train_ppo(env, agent, report_every=20, mean_rewards_per_episode=mean_rewards);"
   ]
  },
  {
   "cell_type": "code",
   "execution_count": 5,
   "metadata": {},
   "outputs": [
    {
     "data": {
      "text/plain": [
       "[<matplotlib.lines.Line2D at 0x7f9dec3d6780>]"
      ]
     },
     "execution_count": 5,
     "metadata": {},
     "output_type": "execute_result"
    },
    {
     "data": {
      "image/png": "[encoded data removed]",
      "text/plain": [
       "<Figure size 432x288 with 1 Axes>"
      ]
     },
     "metadata": {
      "needs_background": "light"
     },
     "output_type": "display_data"
    }
   ],
   "source": [
    "plt.plot(mean_rewards)"
   ]
  },
  {
   "cell_type": "code",
   "execution_count": 6,
   "metadata": {},
   "outputs": [],
   "source": [
    "agent.save('checkpoint.pth')"
   ]
  },
  {
   "cell_type": "code",
   "execution_count": 7,
   "metadata": {},
   "outputs": [],
   "source": [
    "with open('episode_rewards.txt', 'wt') as fp:\n",
    "    fp.write('\\n'.join(str(x) for x in mean_rewards) + '\\n')"
   ]
  },
  {
   "cell_type": "code",
   "execution_count": null,
   "metadata": {},
   "outputs": [],
   "source": []
  }
 ],
 "metadata": {
  "kernelspec": {
   "display_name": "drlnd",
   "language": "python",
   "name": "drlnd"
  },
  "language_info": {
   "codemirror_mode": {
    "name": "ipython",
    "version": 3
   },
   "file_extension": ".py",
   "mimetype": "text/x-python",
   "name": "python",
   "nbconvert_exporter": "python",
   "pygments_lexer": "ipython3",
   "version": "3.6.11"
  }
 },
 "nbformat": 4,
 "nbformat_minor": 4
}
